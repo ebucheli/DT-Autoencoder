{
 "cells": [
  {
   "cell_type": "code",
   "execution_count": 1,
   "metadata": {},
   "outputs": [],
   "source": [
    "import numpy as np\n",
    "import matplotlib.pyplot as plt\n",
    "import pandas as pd\n",
    "from scipy.io import arff\n",
    "\n",
    "from weka.core import jvm\n",
    "from weka.classifiers import Classifier\n",
    "from weka.core.converters import Loader\n",
    "from weka.filters import Filter\n",
    "\n",
    "from copy import deepcopy\n",
    "import sklearn"
   ]
  },
  {
   "cell_type": "code",
   "execution_count": 2,
   "metadata": {},
   "outputs": [
    {
     "name": "stderr",
     "output_type": "stream",
     "text": [
      "DEBUG:weka.core.jvm:Adding bundled jars\n",
      "DEBUG:weka.core.jvm:Classpath=['/home/edoardobucheli/anaconda3/envs/tf-gpu/lib/python3.6/site-packages/javabridge/jars/rhino-1.7R4.jar', '/home/edoardobucheli/anaconda3/envs/tf-gpu/lib/python3.6/site-packages/javabridge/jars/runnablequeue.jar', '/home/edoardobucheli/anaconda3/envs/tf-gpu/lib/python3.6/site-packages/javabridge/jars/cpython.jar', '/home/edoardobucheli/anaconda3/envs/tf-gpu/lib/python3.6/site-packages/weka/lib/python-weka-wrapper.jar', '/home/edoardobucheli/anaconda3/envs/tf-gpu/lib/python3.6/site-packages/weka/lib/weka.jar']\n",
      "DEBUG:weka.core.jvm:MaxHeapSize=default\n",
      "DEBUG:weka.core.jvm:Package support disabled\n"
     ]
    }
   ],
   "source": [
    "jvm.start()"
   ]
  },
  {
   "cell_type": "markdown",
   "metadata": {},
   "source": [
    "### Import Data"
   ]
  },
  {
   "cell_type": "code",
   "execution_count": 5,
   "metadata": {},
   "outputs": [],
   "source": [
    "arff_data = arff.loadarff('./breast-cancer.arff')\n",
    "df = pd.DataFrame(arff_data[0])"
   ]
  },
  {
   "cell_type": "code",
   "execution_count": 6,
   "metadata": {},
   "outputs": [],
   "source": [
    "cols = df.columns"
   ]
  },
  {
   "cell_type": "code",
   "execution_count": 7,
   "metadata": {},
   "outputs": [],
   "source": [
    "loader = Loader(classname='weka.core.converters.ArffLoader')\n",
    "data = loader.load_file('./breast-cancer.arff')"
   ]
  },
  {
   "cell_type": "code",
   "execution_count": 8,
   "metadata": {},
   "outputs": [],
   "source": [
    "attributes = [f.name for f in data.attributes()]"
   ]
  },
  {
   "cell_type": "code",
   "execution_count": 9,
   "metadata": {},
   "outputs": [],
   "source": [
    "map_att_toint = dict([[f.name,i] for i,f in enumerate(data.attributes())])"
   ]
  },
  {
   "cell_type": "code",
   "execution_count": 10,
   "metadata": {},
   "outputs": [],
   "source": [
    "map_att_label_toint = dict([[f.name,dict([[g,j] \n",
    "                                          for j,g in enumerate(f.values)])] \n",
    "                                                for i,f in enumerate(data.attributes())])"
   ]
  },
  {
   "cell_type": "markdown",
   "metadata": {},
   "source": [
    "Get Normal Data Split"
   ]
  },
  {
   "cell_type": "code",
   "execution_count": 11,
   "metadata": {},
   "outputs": [],
   "source": [
    "keep_normal = Filter(classname='weka.filters.unsupervised.instance.RemoveWithValues',\n",
    "                     options = ['-C','last','-L','last'])\n",
    "keep_normal.inputformat(data)\n",
    "data_normal = keep_normal.filter(data)"
   ]
  },
  {
   "cell_type": "markdown",
   "metadata": {},
   "source": [
    "Remove class"
   ]
  },
  {
   "cell_type": "code",
   "execution_count": 12,
   "metadata": {},
   "outputs": [],
   "source": [
    "remove = Filter(classname='weka.filters.unsupervised.attribute.Remove',options = ['-R','last'])\n",
    "remove.inputformat(data_normal)\n",
    "data_normal_v2 = remove.filter(data_normal)"
   ]
  },
  {
   "cell_type": "code",
   "execution_count": 13,
   "metadata": {},
   "outputs": [],
   "source": [
    "N = data_normal_v2.num_instances"
   ]
  },
  {
   "cell_type": "markdown",
   "metadata": {},
   "source": [
    "Get Anomalous Data Split"
   ]
  },
  {
   "cell_type": "code",
   "execution_count": 14,
   "metadata": {},
   "outputs": [],
   "source": [
    "keep_anom = Filter(classname='weka.filters.unsupervised.instance.RemoveWithValues',\n",
    "                     options = ['-C','last','-L','first'])\n",
    "keep_anom.inputformat(data)\n",
    "data_anom = keep_anom.filter(data)"
   ]
  },
  {
   "cell_type": "code",
   "execution_count": 15,
   "metadata": {},
   "outputs": [],
   "source": [
    "data_anom_v2 = remove.filter(data_anom)"
   ]
  },
  {
   "cell_type": "code",
   "execution_count": 16,
   "metadata": {},
   "outputs": [],
   "source": [
    "N_anom = data_anom_v2.num_instances"
   ]
  },
  {
   "cell_type": "markdown",
   "metadata": {},
   "source": [
    "### Train Trees"
   ]
  },
  {
   "cell_type": "code",
   "execution_count": 18,
   "metadata": {},
   "outputs": [],
   "source": [
    "from weka.classifiers import Evaluation\n",
    "from weka.core.classes import Random"
   ]
  },
  {
   "cell_type": "code",
   "execution_count": 65,
   "metadata": {},
   "outputs": [],
   "source": [
    "data_normal_v2.class_index = 1\n",
    "evl = Evaluation(data_normal_v2)\n",
    "evl.crossvalidate_model(this_clf,data_normal_v2,10,Random(1))\n",
    "\n",
    "this_clf = Classifier(classname='weka.classifiers.trees.J48',options = ['-C','0.25','-M','2'])\n",
    "this_clf.build_classifier(data_normal_v2)"
   ]
  },
  {
   "cell_type": "code",
   "execution_count": 68,
   "metadata": {},
   "outputs": [],
   "source": [
    "clfs = []\n",
    "evls = []\n",
    "\n",
    "dt_y_hat = []\n",
    "\n",
    "for i,att in enumerate(attributes[:-1]):\n",
    "    \n",
    "    data_normal_v2.class_index = i\n",
    "    \n",
    "    this_clf = Classifier(classname='weka.classifiers.trees.J48',options = ['-C','0.25','-M','2'])\n",
    "    this_clf.build_classifier(data_normal_v2)\n",
    "    \n",
    "    this_evl = Evaluation(data_normal_v2)\n",
    "    this_evl.crossvalidate_model(this_clf,data_normal_v2,10,Random(1))\n",
    "    \n",
    "    dt_y_hat.append(this_clf.distributions_for_instances(data_normal_v2))\n",
    "    \n",
    "    clfs.append(this_clf)\n",
    "    evls.append(this_evl)"
   ]
  },
  {
   "cell_type": "markdown",
   "metadata": {},
   "source": [
    "### Get initial weights"
   ]
  },
  {
   "cell_type": "code",
   "execution_count": 16,
   "metadata": {},
   "outputs": [],
   "source": [
    "from sklearn.metrics import recall_score, roc_auc_score"
   ]
  },
  {
   "cell_type": "markdown",
   "metadata": {},
   "source": [
    "Initial weights for layer 1"
   ]
  },
  {
   "cell_type": "code",
   "execution_count": 17,
   "metadata": {},
   "outputs": [
    {
     "name": "stdout",
     "output_type": "stream",
     "text": [
      "AUC: 0.8657\n",
      "AUC: 0.8710\n",
      "AUC: 0.7019\n",
      "AUC: 0.7974\n",
      "AUC: 0.9000\n",
      "AUC: 0.8015\n",
      "AUC: 0.8341\n",
      "AUC: 0.7255\n",
      "AUC: 0.7611\n"
     ]
    }
   ],
   "source": [
    "w2_init = []\n",
    "\n",
    "for i,att in enumerate(attributes[:-1]):\n",
    "    \n",
    "    this_y_hat = np.argmax(dt_y_hat[i],axis = 1)\n",
    "    this_y = data_normal_v2.values(i)\n",
    "    \n",
    "    rocs = []\n",
    "    \n",
    "    for j in np.unique(this_y):\n",
    "        \n",
    "        new_y_hat = np.array([1 if f == j else 0 for f in this_y_hat])\n",
    "        new_y = np.array([1 if f == j else 0 for f in this_y])\n",
    "        \n",
    "        if np.all(new_y == 0):\n",
    "            pass\n",
    "        else:\n",
    "            rocs.append(roc_auc_score(new_y,new_y_hat))\n",
    "\n",
    "    w2_init.append(np.mean(rocs))\n",
    "            \n",
    "    print('AUC: {:0.4f}'.format(np.mean(rocs)))\n",
    "    \n",
    "    #print('ACURACCY: {:0.4f}'.format(np.mean(this_y_hat==this_y)))"
   ]
  },
  {
   "cell_type": "code",
   "execution_count": 26,
   "metadata": {},
   "outputs": [],
   "source": [
    "w1_init = []\n",
    "\n",
    "for i,att in enumerate(attributes[:-1]):\n",
    "    \n",
    "    temp_w = np.zeros(len(data_normal_v2.attribute(i).values))\n",
    "    this_y_hat = np.argmax(dt_y_hat[i],axis = 1)\n",
    "    this_y = data_normal_v2.values(i)\n",
    "    this_y[np.isnan(this_y)] = 1\n",
    "    \n",
    "    this_recs = recall_score(this_y,this_y_hat,average=None)\n",
    "    \n",
    "    for i,rec in zip(np.unique(np.concatenate((this_y_hat,this_y))),this_recs):\n",
    "        \n",
    "        temp_w[int(i)] = rec\n",
    "    \n",
    "    w1_init.append(temp_w)"
   ]
  },
  {
   "cell_type": "code",
   "execution_count": 27,
   "metadata": {},
   "outputs": [
    {
     "data": {
      "text/plain": [
       "[array([0.        , 1.        , 0.76190476, 0.82539683, 0.69014085,\n",
       "        0.825     , 0.6       , 0.        , 0.        ]),\n",
       " array([0.6       , 0.90425532, 0.91176471]),\n",
       " array([0.42857143, 1.        , 0.62962963, 0.65217391, 0.55882353,\n",
       "        0.58333333, 0.45714286, 0.25      , 0.4375    , 0.        ,\n",
       "        0.        , 0.        ]),\n",
       " array([0.99401198, 0.52631579, 0.42857143, 1.        , 1.        ,\n",
       "        0.        , 0.        , 0.        , 0.        , 0.        ,\n",
       "        0.        , 0.        , 0.        ]),\n",
       " array([0.84      , 0.97159091]),\n",
       " array([0.83050847, 0.75490196, 0.625     ]),\n",
       " array([0.90291262, 0.76530612]),\n",
       " array([0.76056338, 0.8       , 0.55      , 0.22222222, 0.41176471]),\n",
       " array([0.54054054, 0.98170732])]"
      ]
     },
     "execution_count": 27,
     "metadata": {},
     "output_type": "execute_result"
    }
   ],
   "source": [
    "w1_init"
   ]
  },
  {
   "cell_type": "code",
   "execution_count": 28,
   "metadata": {
    "scrolled": true
   },
   "outputs": [
    {
     "data": {
      "text/plain": [
       "[0.8657342070508022,\n",
       " 0.8709659556120252,\n",
       " 0.7018916614472068,\n",
       " 0.7974086544593689,\n",
       " 0.8999737506645402,\n",
       " 0.8015096091074447,\n",
       " 0.8341093719041015,\n",
       " 0.7255382886872905,\n",
       " 0.7611239288068556]"
      ]
     },
     "execution_count": 28,
     "metadata": {},
     "output_type": "execute_result"
    }
   ],
   "source": [
    "w2_init"
   ]
  },
  {
   "cell_type": "code",
   "execution_count": 29,
   "metadata": {},
   "outputs": [],
   "source": [
    "bias_init = np.zeros((len(w2_init)))"
   ]
  },
  {
   "cell_type": "code",
   "execution_count": 30,
   "metadata": {},
   "outputs": [],
   "source": [
    "def sigmoid(x):\n",
    "    return 1/(1+np.exp(-x))"
   ]
  },
  {
   "cell_type": "markdown",
   "metadata": {},
   "source": [
    "### Define some network functions"
   ]
  },
  {
   "cell_type": "code",
   "execution_count": 31,
   "metadata": {},
   "outputs": [],
   "source": [
    "def neuron_l1(x_prime,weights,bias,indxs):\n",
    "    \n",
    "    my_res = np.zeros((len(x_prime)))\n",
    "\n",
    "    for i,this_x_prime in enumerate(x_prime):\n",
    "        \n",
    "        if indxs[i] >= len(weights):\n",
    "            indxs[i] -= 1\n",
    "        this_x_wrong = np.delete(this_x_prime,indxs[i])\n",
    "        w_wrong = np.delete(weights,indxs[i])\n",
    "        \n",
    "        my_res[i] = sigmoid(this_x_prime[indxs[i]]*weights[indxs[i]]-np.mean(this_x_wrong*w_wrong)+bias)\n",
    "        \n",
    "    return my_res"
   ]
  },
  {
   "cell_type": "markdown",
   "metadata": {},
   "source": [
    "Encoder"
   ]
  },
  {
   "cell_type": "code",
   "execution_count": 32,
   "metadata": {
    "scrolled": false
   },
   "outputs": [
    {
     "name": "stdout",
     "output_type": "stream",
     "text": [
      "Iteration 1:\n",
      "\tAttribute 1: 0.6436\n",
      "\tAttribute 2: 0.7000\n",
      "\tAttribute 3: 0.5620\n",
      "\tAttribute 4: 0.7436\n",
      "\tAttribute 5: 0.7548\n",
      "\tAttribute 6: 0.6154\n",
      "\tAttribute 7: 0.6396\n",
      "\tAttribute 8: 0.6000\n",
      "\tAttribute 9: 0.6967\n",
      "Iteration 51:\n",
      "\tAttribute 1: 0.9004\n",
      "\tAttribute 2: 0.9179\n",
      "\tAttribute 3: 0.8446\n",
      "\tAttribute 4: 0.9476\n",
      "\tAttribute 5: 0.9505\n",
      "\tAttribute 6: 0.8307\n",
      "\tAttribute 7: 0.8239\n",
      "\tAttribute 8: 0.8374\n",
      "\tAttribute 9: 0.8770\n",
      "Iteration 100:\n",
      "\tAttribute 1: 0.9423\n",
      "\tAttribute 2: 0.9331\n",
      "\tAttribute 3: 0.9193\n",
      "\tAttribute 4: 0.9677\n",
      "\tAttribute 5: 0.9565\n",
      "\tAttribute 6: 0.8656\n",
      "\tAttribute 7: 0.8365\n",
      "\tAttribute 8: 0.8915\n",
      "\tAttribute 9: 0.8880\n"
     ]
    }
   ],
   "source": [
    "w1 = deepcopy(w1_init)\n",
    "w2 = deepcopy(w2_init)\n",
    "b1 = deepcopy(bias_init)\n",
    "\n",
    "lr = 0.001\n",
    "iterations = 100\n",
    "lrw1 = 0.01\n",
    "\n",
    "losses = []\n",
    "accs = []\n",
    "\n",
    "y_norm = np.ones(N)\n",
    "\n",
    "for i in range(iterations):\n",
    "    \n",
    "    hl1_this = np.zeros((N,len(dt_y_hat)))\n",
    "    \n",
    "    for j,x_prime in enumerate(dt_y_hat):\n",
    "    \n",
    "        x_prime_prime = x_prime*w1[j]\n",
    "        \n",
    "        label = cols[1:][j]\n",
    "        \n",
    "        num_labels = data_normal_v2.values(j)\n",
    "        \n",
    "        #num_labels = [map_dicts_v2[label][f] for f in ys[j]]\n",
    "        \n",
    "        for k in np.unique(num_labels):\n",
    "            \n",
    "            if np.isnan(k):\n",
    "                k = 0\n",
    "            \n",
    "            k = int(k)\n",
    "            \n",
    "            \n",
    "            if k >= x_prime.shape[1]:\n",
    "                break\n",
    "            \n",
    "            indices = np.where(num_labels==k)\n",
    "            this_probs = x_prime[indices]\n",
    "            x_prime_this_this = x_prime[indices]\n",
    "            x_prime_prime_this_this = x_prime_prime[indices]\n",
    "            \n",
    "            edo = neuron_l1(x_prime_this_this,w1[j],b1[j],np.ones((len(x_prime_this_this)),dtype = int)*k)\n",
    "            \n",
    "            grad_wj = np.dot(edo*(1-edo),x_prime_this_this[:,k])\n",
    "            grad_bias = np.mean(edo*(1-edo))\n",
    "            \n",
    "    \n",
    "            w1[j][k] = w1[j][k] + lrw1*grad_wj\n",
    "            b1[j] = b1[j] + lrw1*grad_bias\n",
    "            #for this_indx in [f for f in np.arange(np.max(num_labels)) if f != k]:\n",
    "                \n",
    "            #    if this_indx < k:\n",
    "            #        grad_indx = this_indx\n",
    "            #    elif this_indx > k:\n",
    "            #        grad_indx = this_indx-1\n",
    "                    \n",
    "            #    w1[j][this_indx] = w1[j][grad_indx] - lrw1*grad_wl[grad_indx]\n",
    "    \n",
    "    #this_loss = []\n",
    "    \n",
    "    for j,x_prime in enumerate(dt_y_hat):\n",
    "        \n",
    "        label = cols[1:][j]\n",
    "        num_labels = np.array(data_normal_v2.values(j),dtype = np.int64)\n",
    "        \n",
    "        for dani,f in enumerate(num_labels):\n",
    "            if f < 0:\n",
    "                num_labels[dani] = 0\n",
    "        #print(num_labels)\n",
    "        \n",
    "        hl1_this[:,j] = neuron_l1(x_prime,w1[j],b1[j],num_labels)\n",
    "        \n",
    "    this_loss = np.mean(hl1_this,axis = 0)\n",
    "    #print(this_loss.shape)\n",
    "    if i % 50 == 0 or i == iterations-1:\n",
    "        print('Iteration {}:'.format(i+1))\n",
    "        for m, loss_part in enumerate(this_loss):\n",
    "            print('\\tAttribute {}: {:0.4f}'.format(m+1,loss_part))"
   ]
  },
  {
   "cell_type": "markdown",
   "metadata": {},
   "source": [
    "### Test"
   ]
  },
  {
   "cell_type": "markdown",
   "metadata": {},
   "source": [
    "Normal Data"
   ]
  },
  {
   "cell_type": "code",
   "execution_count": 33,
   "metadata": {},
   "outputs": [],
   "source": [
    "hl1_this_all = np.zeros((N,len(cols[:-1])))\n",
    "preds = []\n",
    "\n",
    "for j,x_prime in enumerate(dt_y_hat):\n",
    "        \n",
    "        label = cols[:-1][j]\n",
    "        num_labels = np.array(data_normal_v2.values(j),dtype = np.int64)\n",
    "        \n",
    "        for dani,f in enumerate(num_labels):\n",
    "            if f < 0:\n",
    "                num_labels[dani] = 0\n",
    "        \n",
    "        preds.append(neuron_l1(x_prime,w1[j],b1[j],num_labels))"
   ]
  },
  {
   "cell_type": "code",
   "execution_count": 34,
   "metadata": {},
   "outputs": [
    {
     "name": "stdout",
     "output_type": "stream",
     "text": [
      "Attribute 1: Score 0.9423\n",
      "Attribute 2: Score 0.9331\n",
      "Attribute 3: Score 0.9193\n",
      "Attribute 4: Score 0.9677\n",
      "Attribute 5: Score 0.9565\n",
      "Attribute 6: Score 0.8656\n",
      "Attribute 7: Score 0.8365\n",
      "Attribute 8: Score 0.8915\n",
      "Attribute 9: Score 0.8880\n"
     ]
    }
   ],
   "source": [
    "for i,this_pred in enumerate(preds):\n",
    "    print('Attribute {}: Score {:0.4f}'.format(i+1,np.mean(this_pred)))"
   ]
  },
  {
   "cell_type": "code",
   "execution_count": 35,
   "metadata": {
    "scrolled": true
   },
   "outputs": [
    {
     "data": {
      "text/plain": [
       "0.9111590841599293"
      ]
     },
     "execution_count": 35,
     "metadata": {},
     "output_type": "execute_result"
    }
   ],
   "source": [
    "np.mean(np.array(preds))"
   ]
  },
  {
   "cell_type": "markdown",
   "metadata": {},
   "source": [
    "Anomalous Data"
   ]
  },
  {
   "cell_type": "code",
   "execution_count": 36,
   "metadata": {},
   "outputs": [],
   "source": [
    "dt_anom = []\n",
    "\n",
    "for i,att in enumerate(attributes[:-1]):\n",
    "    \n",
    "    data_anom_v2.class_index = i\n",
    "    dt_anom.append(clfs[i].distributions_for_instances(data_anom_v2))"
   ]
  },
  {
   "cell_type": "code",
   "execution_count": 37,
   "metadata": {},
   "outputs": [],
   "source": [
    "hl1_this_anom = np.zeros((N_anom,len(cols[:-1])))\n",
    "preds_anom = []\n",
    "\n",
    "for j,x_prime in enumerate(dt_anom):\n",
    "        \n",
    "        label = cols[1:][j]\n",
    "        num_labels = np.array(data_anom_v2.values(j),dtype = np.int64)\n",
    "        \n",
    "        for dani,f in enumerate(num_labels):\n",
    "            if f < 0:\n",
    "                num_labels[dani] = 0\n",
    "        \n",
    "        preds_anom.append(neuron_l1(x_prime,w1[j],b1[j],num_labels))"
   ]
  },
  {
   "cell_type": "code",
   "execution_count": 38,
   "metadata": {},
   "outputs": [
    {
     "name": "stdout",
     "output_type": "stream",
     "text": [
      "Attribute 1: Score 0.7834\n",
      "Attribute 2: Score 0.8359\n",
      "Attribute 3: Score 0.8690\n",
      "Attribute 4: Score 0.8568\n",
      "Attribute 5: Score 0.7234\n",
      "Attribute 6: Score 0.4948\n",
      "Attribute 7: Score 0.5720\n",
      "Attribute 8: Score 0.6778\n",
      "Attribute 9: Score 0.6099\n"
     ]
    }
   ],
   "source": [
    "for i,this_pred in enumerate(preds_anom):\n",
    "    print('Attribute {}: Score {:0.4f}'.format(i+1,np.mean(this_pred)))"
   ]
  },
  {
   "cell_type": "code",
   "execution_count": 39,
   "metadata": {},
   "outputs": [
    {
     "data": {
      "text/plain": [
       "0.7136742790402084"
      ]
     },
     "execution_count": 39,
     "metadata": {},
     "output_type": "execute_result"
    }
   ],
   "source": [
    "np.mean(np.array(preds_anom))"
   ]
  },
  {
   "cell_type": "code",
   "execution_count": 40,
   "metadata": {},
   "outputs": [
    {
     "data": {
      "text/plain": [
       "array([0.84123603, 0.31293194, 1.72558359, 0.92835619, 0.34460285,\n",
       "       0.39311397, 0.17726547, 0.81791636, 0.1428926 ])"
      ]
     },
     "execution_count": 40,
     "metadata": {},
     "output_type": "execute_result"
    }
   ],
   "source": [
    "b1"
   ]
  },
  {
   "cell_type": "markdown",
   "metadata": {},
   "source": [
    "Initial Weights"
   ]
  },
  {
   "cell_type": "code",
   "execution_count": 41,
   "metadata": {},
   "outputs": [],
   "source": [
    "hl1_this_all = np.zeros((N,len(cols[1:])))\n",
    "preds = []\n",
    "\n",
    "for j,x_prime in enumerate(dt_y_hat):\n",
    "        \n",
    "        label = cols[1:][j]\n",
    "        num_labels = np.array(data_normal_v2.values(j),dtype = np.int64)\n",
    "        \n",
    "        for dani,f in enumerate(num_labels):\n",
    "            if f < 0:\n",
    "                num_labels[dani] = 0\n",
    "        \n",
    "        preds.append(neuron_l1(x_prime,w1_init[j],bias_init[j],num_labels))"
   ]
  },
  {
   "cell_type": "code",
   "execution_count": 42,
   "metadata": {},
   "outputs": [
    {
     "name": "stdout",
     "output_type": "stream",
     "text": [
      "Attribute 1: Score 0.6263584326780358\n",
      "Attribute 2: Score 0.6697571959533569\n",
      "Attribute 3: Score 0.5524379574537233\n",
      "Attribute 4: Score 0.6944250283745258\n",
      "Attribute 5: Score 0.6978110974646121\n",
      "Attribute 6: Score 0.5981608870097443\n",
      "Attribute 7: Score 0.6169912338960316\n",
      "Attribute 8: Score 0.5867774235915114\n",
      "Attribute 9: Score 0.6561085378480972\n"
     ]
    }
   ],
   "source": [
    "for i,this_pred in enumerate(preds):\n",
    "    print('Attribute {}: Score {}'.format(i+1,np.mean(this_pred)))"
   ]
  },
  {
   "cell_type": "code",
   "execution_count": 43,
   "metadata": {
    "scrolled": true
   },
   "outputs": [
    {
     "data": {
      "text/plain": [
       "0.633203088252182"
      ]
     },
     "execution_count": 43,
     "metadata": {},
     "output_type": "execute_result"
    }
   ],
   "source": [
    "np.mean(np.array(preds))"
   ]
  },
  {
   "cell_type": "code",
   "execution_count": null,
   "metadata": {},
   "outputs": [],
   "source": []
  },
  {
   "cell_type": "code",
   "execution_count": 44,
   "metadata": {},
   "outputs": [],
   "source": [
    "hl1_this_anom = np.zeros((N_anom,len(cols[1:])))\n",
    "preds_anom = []\n",
    "\n",
    "for j,x_prime in enumerate(dt_anom):\n",
    "        \n",
    "        label = cols[1:][j]\n",
    "        num_labels = np.array(data_anom_v2.values(j),dtype = np.int64)\n",
    "        \n",
    "        for dani,f in enumerate(num_labels):\n",
    "            if f < 0:\n",
    "                num_labels[dani] = 0\n",
    "        \n",
    "        preds_anom.append(neuron_l1(x_prime,w1_init[j],bias_init[j],num_labels))"
   ]
  },
  {
   "cell_type": "code",
   "execution_count": 45,
   "metadata": {},
   "outputs": [
    {
     "name": "stdout",
     "output_type": "stream",
     "text": [
      "Attribute 1: Score 0.5532686320614217\n",
      "Attribute 2: Score 0.6369465944104618\n",
      "Attribute 3: Score 0.5143079719426659\n",
      "Attribute 4: Score 0.6102281946353203\n",
      "Attribute 5: Score 0.5905296405214252\n",
      "Attribute 6: Score 0.4970453985576635\n",
      "Attribute 7: Score 0.5224972798925632\n",
      "Attribute 8: Score 0.5198206946978073\n",
      "Attribute 9: Score 0.5461818075939341\n"
     ]
    }
   ],
   "source": [
    "for i,this_pred in enumerate(preds_anom):\n",
    "    print('Attribute {}: Score {}'.format(i+1,np.mean(this_pred)))"
   ]
  },
  {
   "cell_type": "code",
   "execution_count": 46,
   "metadata": {},
   "outputs": [
    {
     "data": {
      "text/plain": [
       "0.554536246034807"
      ]
     },
     "execution_count": 46,
     "metadata": {},
     "output_type": "execute_result"
    }
   ],
   "source": [
    "np.mean(np.array(preds_anom))"
   ]
  },
  {
   "cell_type": "markdown",
   "metadata": {},
   "source": [
    "### Final Test"
   ]
  },
  {
   "cell_type": "code",
   "execution_count": 47,
   "metadata": {},
   "outputs": [],
   "source": [
    "data_noclass = remove.filter(data)"
   ]
  },
  {
   "cell_type": "code",
   "execution_count": 48,
   "metadata": {},
   "outputs": [],
   "source": [
    "N_all = data_noclass.num_instances"
   ]
  },
  {
   "cell_type": "code",
   "execution_count": 49,
   "metadata": {},
   "outputs": [],
   "source": [
    "dt_all = []\n",
    "\n",
    "for i,att in enumerate(attributes[:-1]):\n",
    "    \n",
    "    data_noclass.class_index = i\n",
    "    dt_all.append(clfs[i].distributions_for_instances(data_noclass))"
   ]
  },
  {
   "cell_type": "code",
   "execution_count": 51,
   "metadata": {},
   "outputs": [],
   "source": [
    "hl1_this_all = np.zeros((N_all,len(cols[:-1])))\n",
    "preds = []\n",
    "\n",
    "for j,x_prime in enumerate(dt_all):\n",
    "        \n",
    "    label = cols[:-1][j]\n",
    "    num_labels = np.array(data_noclass.values(j),dtype = np.int64)\n",
    "\n",
    "    for dani,f in enumerate(num_labels):\n",
    "        if f < 0:\n",
    "            num_labels[dani] = 0\n",
    "\n",
    "    preds.append(neuron_l1(x_prime,w1[j],b1[j],num_labels))"
   ]
  },
  {
   "cell_type": "code",
   "execution_count": 66,
   "metadata": {},
   "outputs": [],
   "source": [
    "res = np.dot(np.array(preds).T,w2)/len(attributes[:-1])"
   ]
  },
  {
   "cell_type": "code",
   "execution_count": 67,
   "metadata": {},
   "outputs": [],
   "source": [
    "y = data.values(9)"
   ]
  },
  {
   "cell_type": "code",
   "execution_count": 68,
   "metadata": {},
   "outputs": [],
   "source": [
    "y = np.abs(y-1)"
   ]
  },
  {
   "cell_type": "code",
   "execution_count": 69,
   "metadata": {},
   "outputs": [
    {
     "data": {
      "text/plain": [
       "0.9165642376353527"
      ]
     },
     "execution_count": 69,
     "metadata": {},
     "output_type": "execute_result"
    }
   ],
   "source": [
    "roc_auc_score(y,res)"
   ]
  },
  {
   "cell_type": "code",
   "execution_count": 82,
   "metadata": {},
   "outputs": [
    {
     "data": {
      "text/plain": [
       "-1"
      ]
     },
     "execution_count": 82,
     "metadata": {},
     "output_type": "execute_result"
    }
   ],
   "source": [
    "data.class_index"
   ]
  },
  {
   "cell_type": "code",
   "execution_count": null,
   "metadata": {},
   "outputs": [],
   "source": []
  },
  {
   "cell_type": "code",
   "execution_count": 83,
   "metadata": {},
   "outputs": [],
   "source": [
    "data_noclass = remove.filter(data)"
   ]
  },
  {
   "cell_type": "code",
   "execution_count": 84,
   "metadata": {},
   "outputs": [],
   "source": [
    "N_all = data_noclass.num_instances"
   ]
  },
  {
   "cell_type": "code",
   "execution_count": 85,
   "metadata": {},
   "outputs": [],
   "source": [
    "dt_all = []\n",
    "\n",
    "for i,att in enumerate(attributes[:-1]):\n",
    "    \n",
    "    data_noclass.class_index = i\n",
    "    dt_all.append(clfs[i].distributions_for_instances(data_noclass))"
   ]
  },
  {
   "cell_type": "code",
   "execution_count": 86,
   "metadata": {},
   "outputs": [],
   "source": [
    "hl1_this_all = np.zeros((N_all,len(cols[:-1])))\n",
    "preds = []\n",
    "\n",
    "for j,x_prime in enumerate(dt_all):\n",
    "        \n",
    "    label = cols[:-1][j]\n",
    "    num_labels = np.array(data_noclass.values(j),dtype = np.int64)\n",
    "\n",
    "    for dani,f in enumerate(num_labels):\n",
    "        if f < 0:\n",
    "            num_labels[dani] = 0\n",
    "\n",
    "    preds.append(neuron_l1(x_prime,w1_init[j],bias_init[j],num_labels))"
   ]
  },
  {
   "cell_type": "code",
   "execution_count": 87,
   "metadata": {},
   "outputs": [],
   "source": [
    "res = np.dot(np.array(preds).T,w2_init)/len(attributes[:-1])"
   ]
  },
  {
   "cell_type": "code",
   "execution_count": 88,
   "metadata": {},
   "outputs": [],
   "source": [
    "y = data.values(9)"
   ]
  },
  {
   "cell_type": "code",
   "execution_count": 89,
   "metadata": {},
   "outputs": [],
   "source": [
    "y = np.abs(y-1)"
   ]
  },
  {
   "cell_type": "code",
   "execution_count": 90,
   "metadata": {},
   "outputs": [
    {
     "data": {
      "text/plain": [
       "0.9135206321334505"
      ]
     },
     "execution_count": 90,
     "metadata": {},
     "output_type": "execute_result"
    }
   ],
   "source": [
    "roc_auc_score(y,res)"
   ]
  },
  {
   "cell_type": "code",
   "execution_count": 91,
   "metadata": {},
   "outputs": [
    {
     "data": {
      "text/plain": [
       "[array([0.        , 1.        , 0.76190476, 0.82539683, 0.69014085,\n",
       "        0.825     , 0.6       , 0.        , 0.        ]),\n",
       " array([0.6       , 0.90425532, 0.91176471]),\n",
       " array([0.42857143, 1.        , 0.62962963, 0.65217391, 0.55882353,\n",
       "        0.58333333, 0.45714286, 0.25      , 0.4375    , 0.        ,\n",
       "        0.        , 0.        ]),\n",
       " array([0.99401198, 0.52631579, 0.42857143, 1.        , 1.        ,\n",
       "        0.        , 0.        , 0.        , 0.        , 0.        ,\n",
       "        0.        , 0.        , 0.        ]),\n",
       " array([0.84      , 0.97159091]),\n",
       " array([0.83050847, 0.75490196, 0.625     ]),\n",
       " array([0.90291262, 0.76530612]),\n",
       " array([0.76056338, 0.8       , 0.55      , 0.22222222, 0.41176471]),\n",
       " array([0.54054054, 0.98170732])]"
      ]
     },
     "execution_count": 91,
     "metadata": {},
     "output_type": "execute_result"
    }
   ],
   "source": [
    "w1_init"
   ]
  },
  {
   "cell_type": "code",
   "execution_count": 92,
   "metadata": {},
   "outputs": [
    {
     "data": {
      "text/plain": [
       "[array([0.        , 1.10570678, 2.54090261, 4.07145302, 4.25604559,\n",
       "        3.4634775 , 1.17544487, 0.        , 0.        ]),\n",
       " array([1.15591243, 4.87687463, 5.08489828]),\n",
       " array([0.7829456 , 1.28248344, 2.10744995, 2.0258428 , 2.45673093,\n",
       "        2.53735764, 2.45070698, 1.05458955, 1.55718043, 0.05993642,\n",
       "        0.23469907, 0.        ]),\n",
       " array([4.80590494, 2.17340369, 1.1618797 , 1.46604048, 1.14152089,\n",
       "        0.21113271, 0.        , 0.        , 0.        , 0.        ,\n",
       "        0.        , 0.        , 0.        ]),\n",
       " array([6.02226071, 5.18043671]),\n",
       " array([5.02215376, 5.82400625, 4.07067964]),\n",
       " array([6.33136659, 6.38582259]),\n",
       " array([4.66328357, 4.67576166, 2.38637668, 1.7567905 , 2.00800826]),\n",
       " array([3.23901488, 5.70109353])]"
      ]
     },
     "execution_count": 92,
     "metadata": {},
     "output_type": "execute_result"
    }
   ],
   "source": [
    "w1"
   ]
  },
  {
   "cell_type": "code",
   "execution_count": null,
   "metadata": {},
   "outputs": [],
   "source": []
  }
 ],
 "metadata": {
  "kernelspec": {
   "display_name": "Python 3",
   "language": "python",
   "name": "python3"
  },
  "language_info": {
   "codemirror_mode": {
    "name": "ipython",
    "version": 3
   },
   "file_extension": ".py",
   "mimetype": "text/x-python",
   "name": "python",
   "nbconvert_exporter": "python",
   "pygments_lexer": "ipython3",
   "version": "3.6.7"
  }
 },
 "nbformat": 4,
 "nbformat_minor": 2
}
