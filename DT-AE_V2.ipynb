{
 "cells": [
  {
   "cell_type": "code",
   "execution_count": 1,
   "metadata": {},
   "outputs": [],
   "source": [
    "import numpy as np\n",
    "import matplotlib.pyplot as plt\n",
    "from sklearn import tree\n",
    "import pandas as pd"
   ]
  },
  {
   "cell_type": "code",
   "execution_count": 2,
   "metadata": {},
   "outputs": [],
   "source": [
    "import sklearn"
   ]
  },
  {
   "cell_type": "code",
   "execution_count": 3,
   "metadata": {},
   "outputs": [],
   "source": [
    "cols = ['class','age','menopause','tumor-size',\n",
    "        'inv-nodes','node-caps','deg-malig',\n",
    "        'breast','breast-quad','irradiat']\n",
    "\n",
    "df = pd.read_csv('./datasets/breast-cancer.data',names = cols)"
   ]
  },
  {
   "cell_type": "code",
   "execution_count": 4,
   "metadata": {},
   "outputs": [],
   "source": [
    "for this_col in cols[1:]:\n",
    "    df[this_col] = df[this_col].astype('category')"
   ]
  },
  {
   "cell_type": "code",
   "execution_count": 5,
   "metadata": {},
   "outputs": [],
   "source": [
    "map_dicts_list = []\n",
    "\n",
    "for col in df.columns:\n",
    "    labels = np.unique(df[col])\n",
    "    #print(labels)\n",
    "    map_dicts_list.append(dict([[val,i] for i,val in enumerate(labels)]))\n",
    "    \n",
    "map_dicts_v2 = dict([[att,this_dict] for att,this_dict in zip(df.columns,map_dicts_list)])"
   ]
  },
  {
   "cell_type": "code",
   "execution_count": 6,
   "metadata": {},
   "outputs": [
    {
     "data": {
      "text/plain": [
       "{'class': {'no-recurrence-events': 0, 'recurrence-events': 1},\n",
       " 'age': {'20-29': 0,\n",
       "  '30-39': 1,\n",
       "  '40-49': 2,\n",
       "  '50-59': 3,\n",
       "  '60-69': 4,\n",
       "  '70-79': 5},\n",
       " 'menopause': {'ge40': 0, 'lt40': 1, 'premeno': 2},\n",
       " 'tumor-size': {'0-4': 0,\n",
       "  '10-14': 1,\n",
       "  '15-19': 2,\n",
       "  '20-24': 3,\n",
       "  '25-29': 4,\n",
       "  '30-34': 5,\n",
       "  '35-39': 6,\n",
       "  '40-44': 7,\n",
       "  '45-49': 8,\n",
       "  '5-9': 9,\n",
       "  '50-54': 10},\n",
       " 'inv-nodes': {'0-2': 0,\n",
       "  '12-14': 1,\n",
       "  '15-17': 2,\n",
       "  '24-26': 3,\n",
       "  '3-5': 4,\n",
       "  '6-8': 5,\n",
       "  '9-11': 6},\n",
       " 'node-caps': {'?': 0, 'no': 1, 'yes': 2},\n",
       " 'deg-malig': {1: 0, 2: 1, 3: 2},\n",
       " 'breast': {'left': 0, 'right': 1},\n",
       " 'breast-quad': {'?': 0,\n",
       "  'central': 1,\n",
       "  'left_low': 2,\n",
       "  'left_up': 3,\n",
       "  'right_low': 4,\n",
       "  'right_up': 5},\n",
       " 'irradiat': {'no': 0, 'yes': 1}}"
      ]
     },
     "execution_count": 6,
     "metadata": {},
     "output_type": "execute_result"
    }
   ],
   "source": [
    "map_dicts_v2"
   ]
  },
  {
   "cell_type": "code",
   "execution_count": 7,
   "metadata": {},
   "outputs": [
    {
     "name": "stdout",
     "output_type": "stream",
     "text": [
      "Instance of first class: 201\n",
      "Instance of second class: 85\n"
     ]
    }
   ],
   "source": [
    "print('Instance of first class:', np.sum(df['class'] == 'no-recurrence-events'))\n",
    "print('Instance of second class:', np.sum(df['class'] == 'recurrence-events'))"
   ]
  },
  {
   "cell_type": "code",
   "execution_count": 8,
   "metadata": {},
   "outputs": [],
   "source": [
    "df_oc = df[df['class'] == 'no-recurrence-events']\n",
    "df_oc = df_oc.drop('class',axis = 1)"
   ]
  },
  {
   "cell_type": "code",
   "execution_count": 9,
   "metadata": {},
   "outputs": [],
   "source": [
    "#num_columns = df_oc._get_numeric_data().columns"
   ]
  },
  {
   "cell_type": "markdown",
   "metadata": {},
   "source": [
    "Make an anomalies testing set"
   ]
  },
  {
   "cell_type": "code",
   "execution_count": 10,
   "metadata": {},
   "outputs": [],
   "source": [
    "df_anom = df[df['class'] == 'recurrence-events']\n",
    "df_anom = df_anom.drop('class',axis = 1)"
   ]
  },
  {
   "cell_type": "code",
   "execution_count": 11,
   "metadata": {},
   "outputs": [],
   "source": [
    "num_columns = df_anom._get_numeric_data().columns"
   ]
  },
  {
   "cell_type": "code",
   "execution_count": 12,
   "metadata": {},
   "outputs": [],
   "source": [
    "for this_col in num_columns:\n",
    "    df_anom[this_col] = df_anom[this_col].astype('category')"
   ]
  },
  {
   "cell_type": "markdown",
   "metadata": {},
   "source": [
    "Make OH versions"
   ]
  },
  {
   "cell_type": "code",
   "execution_count": 13,
   "metadata": {},
   "outputs": [],
   "source": [
    "df_oh = pd.get_dummies(df,columns = cols[1:])"
   ]
  },
  {
   "cell_type": "code",
   "execution_count": 14,
   "metadata": {},
   "outputs": [],
   "source": [
    "oh_cols = df_oh.columns[1:]"
   ]
  },
  {
   "cell_type": "code",
   "execution_count": 15,
   "metadata": {},
   "outputs": [],
   "source": [
    "df_oc_oh = df_oh[df_oh['class'] == 'no-recurrence-events']\n",
    "df_oc_oh = df_oc_oh.drop('class',axis = 1)"
   ]
  },
  {
   "cell_type": "code",
   "execution_count": 16,
   "metadata": {},
   "outputs": [],
   "source": [
    "df_anom_oh = df_oh[df_oh['class'] == 'recurrence-events']\n",
    "df_anom_oh = df_anom_oh.drop('class',axis = 1)"
   ]
  },
  {
   "cell_type": "markdown",
   "metadata": {},
   "source": [
    "Create dictionary that maps inputs to their categorical index"
   ]
  },
  {
   "cell_type": "markdown",
   "metadata": {},
   "source": [
    "### Train Trees"
   ]
  },
  {
   "cell_type": "code",
   "execution_count": 17,
   "metadata": {},
   "outputs": [],
   "source": [
    "clfs = []\n",
    "xs = []\n",
    "ys = []\n",
    "for col in cols[1:]:\n",
    "    \n",
    "    this_X = df_oc_oh.loc[:,[f for f in df_oc_oh.columns if not f.startswith(col)]]\n",
    "    \n",
    "    this_y = df_oc.loc[:,col]\n",
    "    \n",
    "    \n",
    "    #this_X = df_oc.drop(col,axis = 1)\n",
    "    #this_X = pd.get_dummies(this_X,)\n",
    "    \n",
    "    xs.append(this_X)\n",
    "    ys.append(this_y)\n",
    "    \n",
    "    this_clf = tree.DecisionTreeClassifier()\n",
    "    this_clf.fit(this_X,this_y)\n",
    "    clfs.append(this_clf)"
   ]
  },
  {
   "cell_type": "code",
   "execution_count": 18,
   "metadata": {
    "scrolled": false
   },
   "outputs": [],
   "source": [
    "#plt.figure(figsize = (15,15))\n",
    "#my_tree = tree.plot_tree(clfs[0])"
   ]
  },
  {
   "cell_type": "markdown",
   "metadata": {},
   "source": [
    "### Get initial weights"
   ]
  },
  {
   "cell_type": "code",
   "execution_count": 19,
   "metadata": {},
   "outputs": [],
   "source": [
    "from sklearn.metrics import recall_score, roc_auc_score"
   ]
  },
  {
   "cell_type": "markdown",
   "metadata": {},
   "source": [
    "Initial weights for layer 1"
   ]
  },
  {
   "cell_type": "code",
   "execution_count": 66,
   "metadata": {},
   "outputs": [],
   "source": [
    "recall_pc = []\n",
    "w_2 = []\n",
    "\n",
    "for i,clf in enumerate(clfs):\n",
    "    recall_pc.append(recall_score(ys[i],clf.predict(xs[i]),average=None))\n",
    "    w_2.append(clf.score(xs[i],ys[i]))\n",
    "#in__weights_l1 = [f for g in recall_pc for f in g]\n",
    "w_2 = np.array(w_2)"
   ]
  },
  {
   "cell_type": "code",
   "execution_count": 67,
   "metadata": {},
   "outputs": [
    {
     "data": {
      "text/plain": [
       "[array([1.        , 0.95238095, 0.93650794, 0.92957746, 0.85      ,\n",
       "        0.8       ]),\n",
       " array([0.9893617 , 1.        , 0.97058824]),\n",
       " array([0.85714286, 0.85185185, 0.86956522, 0.85294118, 0.66666667,\n",
       "        0.65714286, 0.66666667, 0.625     , 0.5       , 0.5       ,\n",
       "        0.2       ]),\n",
       " array([1.        , 1.        , 0.66666667, 0.84210526, 1.        ,\n",
       "        1.        ]),\n",
       " array([1.  , 1.  , 0.96]),\n",
       " array([0.96610169, 0.93137255, 0.85      ]),\n",
       " array([0.95145631, 0.76530612]),\n",
       " array([1.        , 0.93333333, 0.81690141, 0.77777778, 0.6       ]),\n",
       " array([1.        , 0.91891892])]"
      ]
     },
     "execution_count": 67,
     "metadata": {},
     "output_type": "execute_result"
    }
   ],
   "source": [
    "recall_pc"
   ]
  },
  {
   "cell_type": "code",
   "execution_count": 68,
   "metadata": {},
   "outputs": [
    {
     "data": {
      "text/plain": [
       "array([0.91542289, 0.9800995 , 0.73134328, 0.9800995 , 0.99502488,\n",
       "       0.92537313, 0.86069652, 0.85074627, 0.98507463])"
      ]
     },
     "execution_count": 68,
     "metadata": {},
     "output_type": "execute_result"
    }
   ],
   "source": [
    "w_2"
   ]
  },
  {
   "cell_type": "markdown",
   "metadata": {},
   "source": [
    "### Evaluate on Dataset"
   ]
  },
  {
   "cell_type": "code",
   "execution_count": 22,
   "metadata": {},
   "outputs": [],
   "source": [
    "def neuron_l1(x_prime,weights,indx):\n",
    "    \n",
    "    x_wrong = np.delete(x_prime,indx,1)\n",
    "    w_wrong = np.delete(weights,indx)\n",
    "    \n",
    "    return x_prime[:,indx]*weights[indx] - np.mean(x_wrong*w_wrong)"
   ]
  },
  {
   "cell_type": "code",
   "execution_count": 23,
   "metadata": {},
   "outputs": [],
   "source": [
    "def neuron_l1_v2(x_prime,weights,indxs):\n",
    "    \n",
    "    my_res = np.zeros((len(x_prime)))\n",
    "\n",
    "    for i,this_x_prime in enumerate(x_prime):\n",
    "        \n",
    "        if indxs[i] >= len(weights):\n",
    "            indxs[i] -= 1\n",
    "        this_x_wrong = np.delete(this_x_prime,indxs[i])\n",
    "        w_wrong = np.delete(weights,indxs[i])\n",
    "        my_res[i] = this_x_prime[indxs[i]]*weights[indxs[i]]-np.mean(this_x_wrong*w_wrong)\n",
    "        \n",
    "    return my_res"
   ]
  },
  {
   "cell_type": "code",
   "execution_count": 24,
   "metadata": {},
   "outputs": [],
   "source": [
    "def sigmoid(x):\n",
    "    return 1/(1+np.exp(-x))"
   ]
  },
  {
   "cell_type": "markdown",
   "metadata": {},
   "source": [
    "Encoder on normal data"
   ]
  },
  {
   "cell_type": "code",
   "execution_count": 25,
   "metadata": {},
   "outputs": [],
   "source": [
    "dt_y_hat = []\n",
    "\n",
    "for i, clf in enumerate(clfs):\n",
    "    dt_y_hat.append(clf.predict_proba(xs[i]))"
   ]
  },
  {
   "cell_type": "code",
   "execution_count": 26,
   "metadata": {},
   "outputs": [],
   "source": [
    "hl1 = np.zeros((len(df_oc),len(cols[1:])))\n",
    "\n",
    "for i, x_prime in enumerate(dt_y_hat):\n",
    "    \n",
    "    label = cols[1:][i]\n",
    "    dom_ind = [map_dicts_v2[label][f] for f in ys[i]]\n",
    "    \n",
    "    hl1[:,i] = neuron_l1_v2(x_prime,recall_pc[i],dom_ind)"
   ]
  },
  {
   "cell_type": "markdown",
   "metadata": {},
   "source": [
    "Decoder"
   ]
  },
  {
   "cell_type": "code",
   "execution_count": 27,
   "metadata": {},
   "outputs": [],
   "source": [
    "y_hat_normal = sigmoid(np.dot(hl1,w_2))"
   ]
  },
  {
   "cell_type": "code",
   "execution_count": 28,
   "metadata": {},
   "outputs": [
    {
     "data": {
      "text/plain": [
       "0.9965797587767958"
      ]
     },
     "execution_count": 28,
     "metadata": {},
     "output_type": "execute_result"
    }
   ],
   "source": [
    "np.mean(y_hat_normal)"
   ]
  },
  {
   "cell_type": "markdown",
   "metadata": {},
   "source": [
    "Encoder on anomaly data"
   ]
  },
  {
   "cell_type": "code",
   "execution_count": 29,
   "metadata": {},
   "outputs": [],
   "source": [
    "xs_anom = []\n",
    "ys_anom = []\n",
    "\n",
    "for col in cols[1:]:\n",
    "    \n",
    "    this_X = df_anom_oh.loc[:,[f for f in df_anom_oh.columns if not f.startswith(col)]]\n",
    "    this_y = df_anom.loc[:,col]\n",
    "    \n",
    "    xs_anom.append(this_X)\n",
    "    ys_anom.append(this_y)"
   ]
  },
  {
   "cell_type": "code",
   "execution_count": 30,
   "metadata": {},
   "outputs": [],
   "source": [
    "dt_y_hat_anom = []\n",
    "\n",
    "for i, clf in enumerate(clfs):\n",
    "    dt_y_hat_anom.append(clf.predict_proba(xs_anom[i]))"
   ]
  },
  {
   "cell_type": "code",
   "execution_count": 31,
   "metadata": {},
   "outputs": [],
   "source": [
    "hl1_anom = np.zeros((len(df_anom),len(cols[1:])))\n",
    "\n",
    "for i, x_prime in enumerate(dt_y_hat_anom):\n",
    "    \n",
    "    label = cols[1:][i]\n",
    "    dom_ind = [map_dicts_v2[label][f] for f in ys_anom[i]]\n",
    "    hl1_anom[:,i] = neuron_l1_v2(x_prime,recall_pc[i],dom_ind)"
   ]
  },
  {
   "cell_type": "markdown",
   "metadata": {},
   "source": [
    "Decoder"
   ]
  },
  {
   "cell_type": "code",
   "execution_count": 32,
   "metadata": {},
   "outputs": [],
   "source": [
    "y_hat_anom = sigmoid(np.dot(hl1_anom,w_2))"
   ]
  },
  {
   "cell_type": "code",
   "execution_count": 33,
   "metadata": {},
   "outputs": [
    {
     "data": {
      "text/plain": [
       "0.7058542541844975"
      ]
     },
     "execution_count": 33,
     "metadata": {},
     "output_type": "execute_result"
    }
   ],
   "source": [
    "np.mean(y_hat_anom)"
   ]
  },
  {
   "cell_type": "markdown",
   "metadata": {},
   "source": [
    "### Final Layer Optimizer"
   ]
  },
  {
   "cell_type": "code",
   "execution_count": 34,
   "metadata": {},
   "outputs": [],
   "source": [
    "def get_cross_entropy_loss(y,y_hat):\n",
    "    return(-y*np.log(y_hat)-(1-y)*np.log(1-y_hat))"
   ]
  },
  {
   "cell_type": "code",
   "execution_count": 35,
   "metadata": {},
   "outputs": [
    {
     "name": "stdout",
     "output_type": "stream",
     "text": [
      "0.003431812464720235\n"
     ]
    }
   ],
   "source": [
    "y_normal = np.ones(len(y_hat_normal))\n",
    "\n",
    "loss_normal = get_cross_entropy_loss(y_normal,y_hat_normal)\n",
    "print(np.mean(loss_normal))"
   ]
  },
  {
   "cell_type": "code",
   "execution_count": 36,
   "metadata": {},
   "outputs": [
    {
     "name": "stdout",
     "output_type": "stream",
     "text": [
      "2.2079696982581787\n"
     ]
    }
   ],
   "source": [
    "y_anom = np.zeros(len(y_hat_anom))\n",
    "\n",
    "loss_anom = get_cross_entropy_loss(y_anom,y_hat_anom)\n",
    "print(np.mean(loss_anom))"
   ]
  },
  {
   "cell_type": "code",
   "execution_count": 37,
   "metadata": {},
   "outputs": [],
   "source": [
    "grad_w_2 = np.dot((-y_anom+y_hat_anom),hl1_anom)"
   ]
  },
  {
   "cell_type": "code",
   "execution_count": 38,
   "metadata": {},
   "outputs": [
    {
     "data": {
      "text/plain": [
       "(85, 9)"
      ]
     },
     "execution_count": 38,
     "metadata": {},
     "output_type": "execute_result"
    }
   ],
   "source": [
    "hl1_anom.shape"
   ]
  },
  {
   "cell_type": "code",
   "execution_count": 39,
   "metadata": {},
   "outputs": [],
   "source": [
    "new_w_2 = w_2 - 0.1*grad_w_2"
   ]
  },
  {
   "cell_type": "code",
   "execution_count": 40,
   "metadata": {},
   "outputs": [],
   "source": [
    "y_hat_anom_2 = sigmoid(np.dot(hl1_anom,new_w_2))"
   ]
  },
  {
   "cell_type": "code",
   "execution_count": 41,
   "metadata": {},
   "outputs": [
    {
     "data": {
      "text/plain": [
       "0.5724348727340058"
      ]
     },
     "execution_count": 41,
     "metadata": {},
     "output_type": "execute_result"
    }
   ],
   "source": [
    "np.mean(get_cross_entropy_loss(y_anom,y_hat_anom_2))"
   ]
  },
  {
   "cell_type": "code",
   "execution_count": 42,
   "metadata": {},
   "outputs": [],
   "source": [
    "y_hat_normal_2 = sigmoid(np.dot(hl1,new_w_2))"
   ]
  },
  {
   "cell_type": "code",
   "execution_count": 43,
   "metadata": {},
   "outputs": [
    {
     "data": {
      "text/plain": [
       "8.88049045477345"
      ]
     },
     "execution_count": 43,
     "metadata": {},
     "output_type": "execute_result"
    }
   ],
   "source": [
    "np.mean(get_cross_entropy_loss(y_normal,y_hat_normal_2))"
   ]
  },
  {
   "cell_type": "markdown",
   "metadata": {},
   "source": [
    "### Test"
   ]
  },
  {
   "cell_type": "code",
   "execution_count": 44,
   "metadata": {},
   "outputs": [],
   "source": [
    "from copy import copy"
   ]
  },
  {
   "cell_type": "code",
   "execution_count": 45,
   "metadata": {},
   "outputs": [],
   "source": [
    "test_weights = copy(w_2)"
   ]
  },
  {
   "cell_type": "code",
   "execution_count": 46,
   "metadata": {},
   "outputs": [],
   "source": [
    "df_oh_x = df_oh.drop('class',axis = 1)"
   ]
  },
  {
   "cell_type": "code",
   "execution_count": 47,
   "metadata": {},
   "outputs": [],
   "source": [
    "y_all = 1 - np.array([map_dicts_v2['class'][f] for f in df_oh['class']])"
   ]
  },
  {
   "cell_type": "code",
   "execution_count": 48,
   "metadata": {},
   "outputs": [],
   "source": [
    "xs_test = []\n",
    "ys_test = []\n",
    "\n",
    "for col in cols[1:]:\n",
    "    \n",
    "    this_X = df_oh_x.loc[:,[f for f in df_oh_x.columns if not f.startswith(col)]]\n",
    "    this_y = df.loc[:,col]\n",
    "    \n",
    "    xs_test.append(this_X)\n",
    "    ys_test.append(this_y)"
   ]
  },
  {
   "cell_type": "code",
   "execution_count": 49,
   "metadata": {},
   "outputs": [],
   "source": [
    "dt_y_hat_all = []\n",
    "\n",
    "for i, clf in enumerate(clfs):\n",
    "    dt_y_hat_all.append(clf.predict_proba(xs_test[i]))"
   ]
  },
  {
   "cell_type": "code",
   "execution_count": 50,
   "metadata": {},
   "outputs": [],
   "source": [
    "hl1_all = np.zeros((len(df_oh_x),len(cols[1:])))\n",
    "\n",
    "for i, x_prime in enumerate(dt_y_hat_all):\n",
    "    \n",
    "    label = cols[1:][i]\n",
    "    dom_ind = [map_dicts_v2[label][f] for f in ys_test[i]]\n",
    "    hl1_all[:,i] = neuron_l1_v2(x_prime,recall_pc[i],dom_ind)"
   ]
  },
  {
   "cell_type": "markdown",
   "metadata": {},
   "source": [
    "Train final weights"
   ]
  },
  {
   "cell_type": "code",
   "execution_count": 75,
   "metadata": {},
   "outputs": [
    {
     "name": "stdout",
     "output_type": "stream",
     "text": [
      "Iteration 1: Loss = 0.66 / Acc: 0.78\n",
      "Iteration 11: Loss = 0.50 / Acc: 0.79\n",
      "Iteration 21: Loss = 0.40 / Acc: 0.83\n",
      "Iteration 31: Loss = 0.36 / Acc: 0.86\n",
      "Iteration 41: Loss = 0.34 / Acc: 0.86\n",
      "Iteration 51: Loss = 0.34 / Acc: 0.87\n",
      "Iteration 61: Loss = 0.33 / Acc: 0.88\n",
      "Iteration 71: Loss = 0.33 / Acc: 0.88\n",
      "Iteration 81: Loss = 0.33 / Acc: 0.88\n",
      "Iteration 91: Loss = 0.33 / Acc: 0.88\n",
      "Iteration 101: Loss = 0.32 / Acc: 0.89\n",
      "Iteration 111: Loss = 0.32 / Acc: 0.89\n",
      "Iteration 121: Loss = 0.32 / Acc: 0.89\n",
      "Iteration 131: Loss = 0.32 / Acc: 0.89\n",
      "Iteration 141: Loss = 0.32 / Acc: 0.90\n",
      "Iteration 151: Loss = 0.32 / Acc: 0.90\n",
      "Iteration 161: Loss = 0.32 / Acc: 0.90\n",
      "Iteration 171: Loss = 0.32 / Acc: 0.90\n",
      "Iteration 181: Loss = 0.32 / Acc: 0.90\n",
      "Iteration 191: Loss = 0.32 / Acc: 0.90\n",
      "Iteration 200: Loss = 0.32 / Acc: 0.90\n"
     ]
    }
   ],
   "source": [
    "w2 = np.copy(w_2)\n",
    "lr = 0.001\n",
    "iterations = 200\n",
    "\n",
    "losses = []\n",
    "accs = []\n",
    "\n",
    "for i in range(iterations):\n",
    "    \n",
    "    this_y_hat = sigmoid(np.dot(hl1_all,w2))\n",
    "    \n",
    "    grad_w2 = np.dot((-y_all+this_y_hat),hl1_all)\n",
    "    w2 = w2 - lr*grad_w2\n",
    "    \n",
    "    this_loss = np.mean(get_cross_entropy_loss(y_all,this_y_hat))\n",
    "    this_acc = np.mean(y_all==(this_y_hat>=0.5))\n",
    "    \n",
    "    losses.append(this_loss)\n",
    "    accs.append(this_acc)\n",
    "    \n",
    "    \n",
    "    \n",
    "    if i % 10 == 0 or i == iterations-1:\n",
    "        print('Iteration {}: Loss = {:0.2f} / Acc: {:0.2f}'.format(i+1,this_loss,this_acc))\n",
    "        \n",
    "    "
   ]
  },
  {
   "cell_type": "code",
   "execution_count": 76,
   "metadata": {},
   "outputs": [
    {
     "data": {
      "text/plain": [
       "Text(0.5, 1.0, 'Change in Accuracy')"
      ]
     },
     "execution_count": 76,
     "metadata": {},
     "output_type": "execute_result"
    },
    {
     "data": {
      "image/png": "[encoded data removed]",
      "text/plain": [
       "<Figure size 1080x720 with 2 Axes>"
      ]
     },
     "metadata": {
      "needs_background": "light"
     },
     "output_type": "display_data"
    }
   ],
   "source": [
    "plt.figure(figsize = (15,10))\n",
    "\n",
    "plt.subplot(2,1,1)\n",
    "plt.plot(losses)\n",
    "plt.title('Change in Loss')\n",
    "plt.subplot(2,1,2)\n",
    "plt.plot(accs)\n",
    "plt.title('Change in Accuracy')"
   ]
  },
  {
   "cell_type": "markdown",
   "metadata": {},
   "source": [
    "Train all weights"
   ]
  },
  {
   "cell_type": "code",
   "execution_count": 77,
   "metadata": {},
   "outputs": [],
   "source": [
    "from copy import deepcopy"
   ]
  },
  {
   "cell_type": "code",
   "execution_count": 82,
   "metadata": {},
   "outputs": [
    {
     "name": "stdout",
     "output_type": "stream",
     "text": [
      "Iteration 1: Loss = 0.66 / Acc: 0.78\n",
      "Iteration 11: Loss = 0.34 / Acc: 0.88\n",
      "Iteration 21: Loss = 0.30 / Acc: 0.90\n",
      "Iteration 31: Loss = 0.29 / Acc: 0.90\n",
      "Iteration 41: Loss = 0.28 / Acc: 0.90\n",
      "Iteration 51: Loss = 0.27 / Acc: 0.92\n",
      "Iteration 61: Loss = 0.26 / Acc: 0.92\n",
      "Iteration 71: Loss = 0.26 / Acc: 0.92\n",
      "Iteration 81: Loss = 0.26 / Acc: 0.92\n",
      "Iteration 91: Loss = 0.25 / Acc: 0.92\n",
      "Iteration 101: Loss = 0.25 / Acc: 0.91\n",
      "Iteration 111: Loss = 0.25 / Acc: 0.91\n",
      "Iteration 121: Loss = 0.25 / Acc: 0.91\n",
      "Iteration 131: Loss = 0.24 / Acc: 0.90\n",
      "Iteration 141: Loss = 0.24 / Acc: 0.90\n",
      "Iteration 151: Loss = 0.24 / Acc: 0.90\n",
      "Iteration 161: Loss = 0.24 / Acc: 0.90\n",
      "Iteration 171: Loss = 0.24 / Acc: 0.90\n",
      "Iteration 181: Loss = 0.24 / Acc: 0.90\n",
      "Iteration 191: Loss = 0.24 / Acc: 0.90\n",
      "Iteration 200: Loss = 0.24 / Acc: 0.90\n"
     ]
    }
   ],
   "source": [
    "w1 = deepcopy(recall_pc)\n",
    "w2 = deepcopy(w_2)\n",
    "\n",
    "lr = 0.001\n",
    "iterations = 200\n",
    "lrw1 = 0.01\n",
    "\n",
    "\n",
    "losses = []\n",
    "accs = []\n",
    "\n",
    "hl1_this = np.zeros((len(df_oh_x),len(cols[1:])))\n",
    "    \n",
    "for j,x_prime in enumerate(dt_y_hat_all):\n",
    "\n",
    "    label = cols[1:][j]\n",
    "    num_labels = [map_dicts_v2[label][f] for f in ys_test[j]]\n",
    "    hl1_this[:,j] = neuron_l1_v2(x_prime,w1[j],num_labels)\n",
    "\n",
    "this_y_hat = sigmoid(np.dot(hl1_this,w2))        \n",
    "\n",
    "for i in range(iterations):\n",
    "    \n",
    "    hl1_this = np.zeros((len(df_oh_x),len(cols[1:])))\n",
    "    \n",
    "    for j,x_prime in enumerate(dt_y_hat_all):\n",
    "        \n",
    "        label = cols[1:][j]\n",
    "        num_labels = [map_dicts_v2[label][f] for f in ys_test[j]]\n",
    "        hl1_this[:,j] = neuron_l1_v2(x_prime,w1[j],num_labels)\n",
    "        \n",
    "        for k in np.unique(num_labels):\n",
    "            \n",
    "            indices = np.where(num_labels==k)\n",
    "            this_probs = x_prime[indices]\n",
    "            x_prime_this_this = x_prime[indices]\n",
    "            y_hat_this_this = this_y_hat[indices]\n",
    "            y_all_this_this = y_all[indices]\n",
    "            \n",
    "            grad_wj = np.dot((-y_all_this_this+y_hat_this_this)*w2[j],x_prime_this_this[:,k])\n",
    "            grad_wl = np.dot((-y_all_this_this+y_hat_this_this)*w2[j],(-1/len(np.unique(num_labels)-1))*np.delete(x_prime_this_this,k,axis = 1))\n",
    "    \n",
    "            w1[j][k] = w1[j][k] - lrw1*grad_wj\n",
    "            #print(k)\n",
    "            #for this_indx in [f for f in np.unique(num_labels) if f != k]:\n",
    "                #print('\\t',this_indx)\n",
    "                \n",
    "                #if this_indx < k:\n",
    "                    #grad_indx = this_indx\n",
    "                #elif this_indx > k:\n",
    "                    #grad_indx = this_indx-1\n",
    "                #else:\n",
    "                #    print('this should not have happened')\n",
    "                #w1[j][this_indx] = w1[j][this_indx] - lrw1*grad_wl[grad_indx]\n",
    "    #break\n",
    "    this_y_hat = sigmoid(np.dot(hl1_this,w2))\n",
    "    \n",
    "    grad_w2 = np.dot((-y_all+this_y_hat),hl1_this)\n",
    "    w2 = w2 - lr*grad_w2\n",
    "    \n",
    "    this_loss = np.mean(get_cross_entropy_loss(y_all,this_y_hat))\n",
    "    this_acc = np.mean(y_all==(this_y_hat>=0.5))\n",
    "    \n",
    "    losses.append(this_loss)\n",
    "    accs.append(this_acc)\n",
    "    \n",
    "    \n",
    "    \n",
    "    if i % 10 == 0 or i == iterations-1:\n",
    "        print('Iteration {}: Loss = {:0.2f} / Acc: {:0.2f}'.format(i+1,this_loss,this_acc))\n",
    "        \n",
    "    "
   ]
  },
  {
   "cell_type": "code",
   "execution_count": 83,
   "metadata": {
    "scrolled": false
   },
   "outputs": [
    {
     "data": {
      "text/plain": [
       "Text(0.5, 1.0, 'Change in Accuracy')"
      ]
     },
     "execution_count": 83,
     "metadata": {},
     "output_type": "execute_result"
    },
    {
     "data": {
      "image/png": "[encoded data removed]",
      "text/plain": [
       "<Figure size 1080x720 with 2 Axes>"
      ]
     },
     "metadata": {
      "needs_background": "light"
     },
     "output_type": "display_data"
    }
   ],
   "source": [
    "plt.figure(figsize = (15,10))\n",
    "\n",
    "plt.subplot(2,1,1)\n",
    "plt.plot(losses)\n",
    "plt.title('Change in Loss')\n",
    "plt.subplot(2,1,2)\n",
    "plt.plot(accs)\n",
    "plt.title('Change in Accuracy')"
   ]
  },
  {
   "cell_type": "code",
   "execution_count": null,
   "metadata": {},
   "outputs": [],
   "source": []
  }
 ],
 "metadata": {
  "kernelspec": {
   "display_name": "Python 3",
   "language": "python",
   "name": "python3"
  },
  "language_info": {
   "codemirror_mode": {
    "name": "ipython",
    "version": 3
   },
   "file_extension": ".py",
   "mimetype": "text/x-python",
   "name": "python",
   "nbconvert_exporter": "python",
   "pygments_lexer": "ipython3",
   "version": "3.6.7"
  }
 },
 "nbformat": 4,
 "nbformat_minor": 2
}
