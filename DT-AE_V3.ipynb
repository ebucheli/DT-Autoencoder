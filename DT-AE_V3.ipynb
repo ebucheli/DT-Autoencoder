{
 "cells": [
  {
   "cell_type": "code",
   "execution_count": 1,
   "metadata": {},
   "outputs": [],
   "source": [
    "import numpy as np\n",
    "import matplotlib.pyplot as plt\n",
    "from sklearn import tree\n",
    "import pandas as pd\n",
    "\n",
    "from copy import deepcopy\n",
    "import sklearn"
   ]
  },
  {
   "cell_type": "markdown",
   "metadata": {},
   "source": [
    "### Import Data"
   ]
  },
  {
   "cell_type": "code",
   "execution_count": 2,
   "metadata": {},
   "outputs": [],
   "source": [
    "cols = ['class','age','menopause','tumor-size',\n",
    "        'inv-nodes','node-caps','deg-malig',\n",
    "        'breast','breast-quad','irradiat']\n",
    "\n",
    "df = pd.read_csv('./datasets/breast-cancer.data',names = cols)"
   ]
  },
  {
   "cell_type": "markdown",
   "metadata": {},
   "source": [
    "Make all columns categorical"
   ]
  },
  {
   "cell_type": "code",
   "execution_count": 3,
   "metadata": {},
   "outputs": [],
   "source": [
    "for this_col in cols[1:]:\n",
    "    df[this_col] = df[this_col].astype('category')"
   ]
  },
  {
   "cell_type": "markdown",
   "metadata": {},
   "source": [
    "Get mapping dict from label names to categorical indices"
   ]
  },
  {
   "cell_type": "code",
   "execution_count": 4,
   "metadata": {},
   "outputs": [],
   "source": [
    "map_dicts_list = []\n",
    "\n",
    "for col in df.columns:\n",
    "    labels = np.unique(df[col])\n",
    "    map_dicts_list.append(dict([[val,i] for i,val in enumerate(labels)]))\n",
    "    \n",
    "map_dicts_v2 = dict([[att,this_dict] for att,this_dict in zip(df.columns,map_dicts_list)])"
   ]
  },
  {
   "cell_type": "markdown",
   "metadata": {},
   "source": [
    "Get instances for each class"
   ]
  },
  {
   "cell_type": "code",
   "execution_count": 5,
   "metadata": {},
   "outputs": [
    {
     "name": "stdout",
     "output_type": "stream",
     "text": [
      "Instance of first class: 201\n",
      "Instance of second class: 85\n"
     ]
    }
   ],
   "source": [
    "print('Instance of first class:', np.sum(df['class'] == 'no-recurrence-events'))\n",
    "print('Instance of second class:', np.sum(df['class'] == 'recurrence-events'))"
   ]
  },
  {
   "cell_type": "markdown",
   "metadata": {},
   "source": [
    "Make normal and anomalies partitions"
   ]
  },
  {
   "cell_type": "code",
   "execution_count": 6,
   "metadata": {},
   "outputs": [],
   "source": [
    "df_oc = df[df['class'] == 'no-recurrence-events']\n",
    "df_oc = df_oc.drop('class',axis = 1)"
   ]
  },
  {
   "cell_type": "code",
   "execution_count": 7,
   "metadata": {},
   "outputs": [],
   "source": [
    "df_anom = df[df['class'] == 'recurrence-events']\n",
    "df_anom = df_anom.drop('class',axis = 1)"
   ]
  },
  {
   "cell_type": "markdown",
   "metadata": {},
   "source": [
    "Make OH versions"
   ]
  },
  {
   "cell_type": "code",
   "execution_count": 8,
   "metadata": {},
   "outputs": [],
   "source": [
    "df_oh = pd.get_dummies(df,columns = cols[1:])"
   ]
  },
  {
   "cell_type": "code",
   "execution_count": 9,
   "metadata": {},
   "outputs": [],
   "source": [
    "oh_cols = df_oh.columns[1:]"
   ]
  },
  {
   "cell_type": "code",
   "execution_count": 10,
   "metadata": {},
   "outputs": [],
   "source": [
    "df_oc_oh = df_oh[df_oh['class'] == 'no-recurrence-events']\n",
    "df_oc_oh = df_oc_oh.drop('class',axis = 1)"
   ]
  },
  {
   "cell_type": "code",
   "execution_count": 11,
   "metadata": {},
   "outputs": [],
   "source": [
    "df_anom_oh = df_oh[df_oh['class'] == 'recurrence-events']\n",
    "df_anom_oh = df_anom_oh.drop('class',axis = 1)"
   ]
  },
  {
   "cell_type": "markdown",
   "metadata": {},
   "source": [
    "### Train Trees"
   ]
  },
  {
   "cell_type": "code",
   "execution_count": 12,
   "metadata": {},
   "outputs": [],
   "source": [
    "clfs = []\n",
    "xs = []\n",
    "ys = []\n",
    "\n",
    "for col in cols[1:]:\n",
    "    \n",
    "    this_X = df_oc_oh.loc[:,[f for f in df_oc_oh.columns if not f.startswith(col)]]\n",
    "    this_y = df_oc.loc[:,col]\n",
    "    \n",
    "    xs.append(this_X)\n",
    "    ys.append(this_y)\n",
    "    \n",
    "    this_clf = tree.DecisionTreeClassifier()\n",
    "    this_clf.fit(this_X,this_y)\n",
    "    clfs.append(this_clf)"
   ]
  },
  {
   "cell_type": "code",
   "execution_count": 13,
   "metadata": {
    "scrolled": false
   },
   "outputs": [],
   "source": [
    "#plt.figure(figsize = (15,15))\n",
    "#my_tree = tree.plot_tree(clfs[0])"
   ]
  },
  {
   "cell_type": "markdown",
   "metadata": {},
   "source": [
    "### Get initial weights"
   ]
  },
  {
   "cell_type": "code",
   "execution_count": 14,
   "metadata": {},
   "outputs": [],
   "source": [
    "from sklearn.metrics import recall_score, roc_auc_score"
   ]
  },
  {
   "cell_type": "markdown",
   "metadata": {},
   "source": [
    "Initial weights for layer 1"
   ]
  },
  {
   "cell_type": "code",
   "execution_count": 15,
   "metadata": {},
   "outputs": [],
   "source": [
    "w1_init = []\n",
    "w2_init = []\n",
    "\n",
    "for i,clf in enumerate(clfs):\n",
    "    w1_init.append(recall_score(ys[i],clf.predict(xs[i]),average=None))\n",
    "    w2_init.append(clf.score(xs[i],ys[i]))\n",
    "    \n",
    "w2_init = np.array(w2_init)"
   ]
  },
  {
   "cell_type": "code",
   "execution_count": 16,
   "metadata": {},
   "outputs": [
    {
     "data": {
      "text/plain": [
       "[array([1.        , 0.95238095, 0.93650794, 0.92957746, 0.85      ,\n",
       "        0.8       ]),\n",
       " array([0.9893617 , 1.        , 0.97058824]),\n",
       " array([0.85714286, 0.85185185, 0.86956522, 0.85294118, 0.66666667,\n",
       "        0.65714286, 0.66666667, 0.625     , 0.5       , 0.5       ,\n",
       "        0.2       ]),\n",
       " array([1.        , 1.        , 0.66666667, 0.84210526, 1.        ,\n",
       "        1.        ]),\n",
       " array([1.  , 1.  , 0.96]),\n",
       " array([0.96610169, 0.93137255, 0.85      ]),\n",
       " array([0.95145631, 0.76530612]),\n",
       " array([1.        , 0.93333333, 0.81690141, 0.77777778, 0.6       ]),\n",
       " array([1.        , 0.91891892])]"
      ]
     },
     "execution_count": 16,
     "metadata": {},
     "output_type": "execute_result"
    }
   ],
   "source": [
    "w1_init"
   ]
  },
  {
   "cell_type": "code",
   "execution_count": 17,
   "metadata": {},
   "outputs": [
    {
     "data": {
      "text/plain": [
       "array([0.91542289, 0.9800995 , 0.73134328, 0.9800995 , 0.99502488,\n",
       "       0.92537313, 0.86069652, 0.85074627, 0.98507463])"
      ]
     },
     "execution_count": 17,
     "metadata": {},
     "output_type": "execute_result"
    }
   ],
   "source": [
    "w2_init"
   ]
  },
  {
   "cell_type": "markdown",
   "metadata": {},
   "source": [
    "### Define some network functions"
   ]
  },
  {
   "cell_type": "code",
   "execution_count": 18,
   "metadata": {},
   "outputs": [],
   "source": [
    "def neuron_l1(x_prime,weights,indxs):\n",
    "    \n",
    "    my_res = np.zeros((len(x_prime)))\n",
    "\n",
    "    for i,this_x_prime in enumerate(x_prime):\n",
    "        \n",
    "        if indxs[i] >= len(weights):\n",
    "            indxs[i] -= 1\n",
    "        this_x_wrong = np.delete(this_x_prime,indxs[i])\n",
    "        w_wrong = np.delete(weights,indxs[i])\n",
    "        my_res[i] = this_x_prime[indxs[i]]*weights[indxs[i]]-np.mean(this_x_wrong*w_wrong)\n",
    "        \n",
    "    return my_res"
   ]
  },
  {
   "cell_type": "code",
   "execution_count": 19,
   "metadata": {},
   "outputs": [],
   "source": [
    "def sigmoid(x):\n",
    "    return 1/(1+np.exp(-x))"
   ]
  },
  {
   "cell_type": "markdown",
   "metadata": {},
   "source": [
    "### Experiment 1: Normal Data"
   ]
  },
  {
   "cell_type": "markdown",
   "metadata": {},
   "source": [
    "Encoder"
   ]
  },
  {
   "cell_type": "code",
   "execution_count": 21,
   "metadata": {},
   "outputs": [],
   "source": [
    "dt_y_hat = []\n",
    "\n",
    "for i, clf in enumerate(clfs):\n",
    "    dt_y_hat.append(clf.predict_proba(xs[i]))"
   ]
  },
  {
   "cell_type": "code",
   "execution_count": 22,
   "metadata": {},
   "outputs": [],
   "source": [
    "hl1 = np.zeros((len(df_oc),len(cols[1:])))\n",
    "\n",
    "for i, x_prime in enumerate(dt_y_hat):\n",
    "    \n",
    "    label = cols[1:][i]\n",
    "    dom_ind = [map_dicts_v2[label][f] for f in ys[i]]\n",
    "    \n",
    "    hl1[:,i] = neuron_l1(x_prime,w1_init[i],dom_ind)"
   ]
  },
  {
   "cell_type": "markdown",
   "metadata": {},
   "source": [
    "Decoder plus weighted anomaly detector"
   ]
  },
  {
   "cell_type": "code",
   "execution_count": 23,
   "metadata": {},
   "outputs": [
    {
     "name": "stdout",
     "output_type": "stream",
     "text": [
      "Average score on normal data 0.9966\n"
     ]
    }
   ],
   "source": [
    "y_hat_normal = sigmoid(np.dot(hl1,w2_init))\n",
    "print('Average score on normal data {:0.4f}'.format(np.mean(y_hat_normal)))"
   ]
  },
  {
   "cell_type": "markdown",
   "metadata": {},
   "source": [
    "### Experiment 2: Anomalous Data"
   ]
  },
  {
   "cell_type": "markdown",
   "metadata": {},
   "source": [
    "Prepare dataset for encoder"
   ]
  },
  {
   "cell_type": "code",
   "execution_count": 24,
   "metadata": {},
   "outputs": [],
   "source": [
    "xs_anom = []\n",
    "ys_anom = []\n",
    "\n",
    "for col in cols[1:]:\n",
    "    \n",
    "    this_X = df_anom_oh.loc[:,[f for f in df_anom_oh.columns if not f.startswith(col)]]\n",
    "    this_y = df_anom.loc[:,col]\n",
    "    \n",
    "    xs_anom.append(this_X)\n",
    "    ys_anom.append(this_y)"
   ]
  },
  {
   "cell_type": "markdown",
   "metadata": {},
   "source": [
    "Encoder"
   ]
  },
  {
   "cell_type": "code",
   "execution_count": 25,
   "metadata": {},
   "outputs": [],
   "source": [
    "dt_y_hat_anom = []\n",
    "\n",
    "for i, clf in enumerate(clfs):\n",
    "    dt_y_hat_anom.append(clf.predict_proba(xs_anom[i]))"
   ]
  },
  {
   "cell_type": "code",
   "execution_count": 26,
   "metadata": {},
   "outputs": [],
   "source": [
    "hl1_anom = np.zeros((len(df_anom),len(cols[1:])))\n",
    "\n",
    "for i, x_prime in enumerate(dt_y_hat_anom):\n",
    "    \n",
    "    label = cols[1:][i]\n",
    "    dom_ind = [map_dicts_v2[label][f] for f in ys_anom[i]]\n",
    "    hl1_anom[:,i] = neuron_l1(x_prime,w1_init[i],dom_ind)"
   ]
  },
  {
   "cell_type": "markdown",
   "metadata": {},
   "source": [
    "Decoder"
   ]
  },
  {
   "cell_type": "code",
   "execution_count": 27,
   "metadata": {},
   "outputs": [
    {
     "name": "stdout",
     "output_type": "stream",
     "text": [
      "Average score on anomalous data 0.7140\n"
     ]
    }
   ],
   "source": [
    "y_hat_anom = sigmoid(np.dot(hl1_anom,w2_init))\n",
    "print('Average score on anomalous data {:0.4f}'.format(np.mean(y_hat_anom)))"
   ]
  },
  {
   "cell_type": "markdown",
   "metadata": {},
   "source": [
    "### Experiment 3: Optimize Decoder Weights Using Gradient Descent"
   ]
  },
  {
   "cell_type": "markdown",
   "metadata": {},
   "source": [
    "Define Loss Function"
   ]
  },
  {
   "cell_type": "code",
   "execution_count": 31,
   "metadata": {},
   "outputs": [],
   "source": [
    "def get_cross_entropy_loss(y,y_hat):\n",
    "    return(-y*np.log(y_hat)-(1-y)*np.log(1-y_hat))"
   ]
  },
  {
   "cell_type": "markdown",
   "metadata": {},
   "source": [
    "We need a set with test and anomaly data. Prepare data for encoder."
   ]
  },
  {
   "cell_type": "code",
   "execution_count": 32,
   "metadata": {},
   "outputs": [],
   "source": [
    "df_oh_x = df_oh.drop('class',axis = 1)\n",
    "y_all = 1 - np.array([map_dicts_v2['class'][f] for f in df_oh['class']])"
   ]
  },
  {
   "cell_type": "code",
   "execution_count": 33,
   "metadata": {},
   "outputs": [],
   "source": [
    "xs_test = []\n",
    "ys_test = []\n",
    "\n",
    "for col in cols[1:]:\n",
    "    \n",
    "    this_X = df_oh_x.loc[:,[f for f in df_oh_x.columns if not f.startswith(col)]]\n",
    "    this_y = df.loc[:,col]\n",
    "    \n",
    "    xs_test.append(this_X)\n",
    "    ys_test.append(this_y)"
   ]
  },
  {
   "cell_type": "markdown",
   "metadata": {},
   "source": [
    "Encoder"
   ]
  },
  {
   "cell_type": "code",
   "execution_count": 34,
   "metadata": {},
   "outputs": [],
   "source": [
    "dt_y_hat_all = []\n",
    "\n",
    "for i, clf in enumerate(clfs):\n",
    "    dt_y_hat_all.append(clf.predict_proba(xs_test[i]))"
   ]
  },
  {
   "cell_type": "code",
   "execution_count": 35,
   "metadata": {},
   "outputs": [],
   "source": [
    "hl1_all = np.zeros((len(df_oh_x),len(cols[1:])))\n",
    "\n",
    "for i, x_prime in enumerate(dt_y_hat_all):\n",
    "    \n",
    "    label = cols[1:][i]\n",
    "    dom_ind = [map_dicts_v2[label][f] for f in ys_test[i]]\n",
    "    hl1_all[:,i] = neuron_l1(x_prime,w1_init[i],dom_ind)"
   ]
  },
  {
   "cell_type": "markdown",
   "metadata": {},
   "source": [
    "Train decoder weights"
   ]
  },
  {
   "cell_type": "code",
   "execution_count": 36,
   "metadata": {},
   "outputs": [
    {
     "name": "stdout",
     "output_type": "stream",
     "text": [
      "Iteration 1: Loss = 0.6636 / Acc: 0.7657\n",
      "Iteration 11: Loss = 0.5045 / Acc: 0.7902\n",
      "Iteration 21: Loss = 0.4062 / Acc: 0.8112\n",
      "Iteration 31: Loss = 0.3667 / Acc: 0.8531\n",
      "Iteration 41: Loss = 0.3553 / Acc: 0.8636\n",
      "Iteration 51: Loss = 0.3509 / Acc: 0.8636\n",
      "Iteration 61: Loss = 0.3480 / Acc: 0.8636\n",
      "Iteration 71: Loss = 0.3457 / Acc: 0.8636\n",
      "Iteration 81: Loss = 0.3438 / Acc: 0.8601\n",
      "Iteration 91: Loss = 0.3422 / Acc: 0.8706\n",
      "Iteration 101: Loss = 0.3408 / Acc: 0.8741\n",
      "Iteration 111: Loss = 0.3396 / Acc: 0.8741\n",
      "Iteration 121: Loss = 0.3386 / Acc: 0.8741\n",
      "Iteration 131: Loss = 0.3377 / Acc: 0.8741\n",
      "Iteration 141: Loss = 0.3369 / Acc: 0.8741\n",
      "Iteration 151: Loss = 0.3362 / Acc: 0.8741\n",
      "Iteration 161: Loss = 0.3356 / Acc: 0.8741\n",
      "Iteration 171: Loss = 0.3351 / Acc: 0.8741\n",
      "Iteration 181: Loss = 0.3346 / Acc: 0.8741\n",
      "Iteration 191: Loss = 0.3341 / Acc: 0.8741\n",
      "Iteration 200: Loss = 0.3338 / Acc: 0.8741\n"
     ]
    }
   ],
   "source": [
    "w2 = np.copy(w2_init)\n",
    "lr = 0.001\n",
    "iterations = 200\n",
    "\n",
    "losses = []\n",
    "accs = []\n",
    "\n",
    "for i in range(iterations):\n",
    "    \n",
    "    this_y_hat = sigmoid(np.dot(hl1_all,w2))\n",
    "    \n",
    "    grad_w2 = np.dot((-y_all+this_y_hat),hl1_all)\n",
    "    w2 = w2 - lr*grad_w2\n",
    "    \n",
    "    this_loss = np.mean(get_cross_entropy_loss(y_all,this_y_hat))\n",
    "    this_acc = np.mean(y_all==(this_y_hat>=0.5))\n",
    "    \n",
    "    losses.append(this_loss)\n",
    "    accs.append(this_acc)\n",
    "    \n",
    "    if i % 10 == 0 or i == iterations-1:\n",
    "        print('Iteration {}: Loss = {:0.4f} / Acc: {:0.4f}'.format(i+1,this_loss,this_acc))"
   ]
  },
  {
   "cell_type": "code",
   "execution_count": 37,
   "metadata": {},
   "outputs": [
    {
     "data": {
      "text/plain": [
       "Text(0.5, 1.0, 'Change in Accuracy')"
      ]
     },
     "execution_count": 37,
     "metadata": {},
     "output_type": "execute_result"
    },
    {
     "data": {
      "image/png": "[encoded data removed]",
      "text/plain": [
       "<Figure size 1080x720 with 2 Axes>"
      ]
     },
     "metadata": {
      "needs_background": "light"
     },
     "output_type": "display_data"
    }
   ],
   "source": [
    "plt.figure(figsize = (15,10))\n",
    "\n",
    "plt.subplot(2,1,1)\n",
    "plt.plot(losses)\n",
    "plt.title('Change in Loss')\n",
    "plt.subplot(2,1,2)\n",
    "plt.plot(accs)\n",
    "plt.title('Change in Accuracy')"
   ]
  },
  {
   "cell_type": "markdown",
   "metadata": {},
   "source": [
    "### Experiment 4: Optimize Encoder and Decoder Weights"
   ]
  },
  {
   "cell_type": "code",
   "execution_count": 34,
   "metadata": {},
   "outputs": [
    {
     "name": "stdout",
     "output_type": "stream",
     "text": [
      "Iteration 1: Loss = 0.6832 / Acc: 0.7692\n",
      "Iteration 11: Loss = 0.3500 / Acc: 0.8776\n",
      "Iteration 21: Loss = 0.3130 / Acc: 0.8706\n",
      "Iteration 31: Loss = 0.3004 / Acc: 0.8846\n",
      "Iteration 41: Loss = 0.2882 / Acc: 0.8811\n",
      "Iteration 51: Loss = 0.2806 / Acc: 0.8881\n",
      "Iteration 61: Loss = 0.2747 / Acc: 0.8846\n",
      "Iteration 71: Loss = 0.2701 / Acc: 0.8951\n",
      "Iteration 81: Loss = 0.2664 / Acc: 0.8916\n",
      "Iteration 91: Loss = 0.2633 / Acc: 0.8986\n",
      "Iteration 101: Loss = 0.2606 / Acc: 0.8986\n",
      "Iteration 111: Loss = 0.2583 / Acc: 0.8986\n",
      "Iteration 121: Loss = 0.2563 / Acc: 0.8986\n",
      "Iteration 131: Loss = 0.2545 / Acc: 0.8916\n",
      "Iteration 141: Loss = 0.2530 / Acc: 0.8881\n",
      "Iteration 151: Loss = 0.2517 / Acc: 0.8881\n",
      "Iteration 161: Loss = 0.2507 / Acc: 0.8881\n",
      "Iteration 171: Loss = 0.2498 / Acc: 0.8881\n",
      "Iteration 181: Loss = 0.2490 / Acc: 0.8881\n",
      "Iteration 191: Loss = 0.2485 / Acc: 0.8881\n",
      "Iteration 200: Loss = 0.2481 / Acc: 0.8881\n"
     ]
    }
   ],
   "source": [
    "w1 = deepcopy(w1_init)\n",
    "w2 = deepcopy(w2_init)\n",
    "\n",
    "lr = 0.001\n",
    "iterations = 200\n",
    "lrw1 = 0.01\n",
    "\n",
    "losses = []\n",
    "accs = []\n",
    "\n",
    "hl1_this = np.zeros((len(df_oh_x),len(cols[1:])))\n",
    "    \n",
    "for j,x_prime in enumerate(dt_y_hat_all):\n",
    "\n",
    "    label = cols[1:][j]\n",
    "    num_labels = [map_dicts_v2[label][f] for f in ys_test[j]]\n",
    "    hl1_this[:,j] = neuron_l1(x_prime,w1[j],num_labels)\n",
    "\n",
    "this_y_hat = sigmoid(np.dot(hl1_this,w2))        \n",
    "\n",
    "for i in range(iterations):\n",
    "    \n",
    "    hl1_this = np.zeros((len(df_oh_x),len(cols[1:])))\n",
    "    \n",
    "    for j,x_prime in enumerate(dt_y_hat_all):\n",
    "        \n",
    "        label = cols[1:][j]\n",
    "        num_labels = [map_dicts_v2[label][f] for f in ys_test[j]]\n",
    "        hl1_this[:,j] = neuron_l1(x_prime,w1[j],num_labels)\n",
    "        \n",
    "        for k in np.unique(num_labels):\n",
    "            \n",
    "            indices = np.where(num_labels==k)\n",
    "            this_probs = x_prime[indices]\n",
    "            x_prime_this_this = x_prime[indices]\n",
    "            y_hat_this_this = this_y_hat[indices]\n",
    "            y_all_this_this = y_all[indices]\n",
    "            \n",
    "            grad_wj = np.dot((-y_all_this_this+y_hat_this_this)*w2[j],x_prime_this_this[:,k])\n",
    "            grad_wl = np.dot((-y_all_this_this+y_hat_this_this)*w2[j],(-1/len(np.unique(num_labels)-1))*np.delete(x_prime_this_this,k,axis = 1))\n",
    "    \n",
    "            w1[j][k] = w1[j][k] - lrw1*grad_wj\n",
    "            #print(k)\n",
    "            #for this_indx in [f for f in np.unique(num_labels) if f != k]:\n",
    "                #print('\\t',this_indx)\n",
    "                \n",
    "                #if this_indx < k:\n",
    "                    #grad_indx = this_indx\n",
    "                #elif this_indx > k:\n",
    "                    #grad_indx = this_indx-1\n",
    "                #else:\n",
    "                #    print('this should not have happened')\n",
    "                #w1[j][this_indx] = w1[j][this_indx] - lrw1*grad_wl[grad_indx]\n",
    "    \n",
    "    this_y_hat = sigmoid(np.dot(hl1_this,w2))\n",
    "    \n",
    "    grad_w2 = np.dot((-y_all+this_y_hat),hl1_this)\n",
    "    w2 = w2 - lr*grad_w2\n",
    "    \n",
    "    this_loss = np.mean(get_cross_entropy_loss(y_all,this_y_hat))\n",
    "    this_acc = np.mean(y_all==(this_y_hat>=0.5))\n",
    "    \n",
    "    losses.append(this_loss)\n",
    "    accs.append(this_acc)\n",
    "    \n",
    "    if i % 10 == 0 or i == iterations-1:\n",
    "        print('Iteration {}: Loss = {:0.4f} / Acc: {:0.4f}'.format(i+1,this_loss,this_acc))"
   ]
  },
  {
   "cell_type": "code",
   "execution_count": 35,
   "metadata": {
    "scrolled": false
   },
   "outputs": [
    {
     "data": {
      "text/plain": [
       "Text(0.5, 1.0, 'Change in Accuracy')"
      ]
     },
     "execution_count": 35,
     "metadata": {},
     "output_type": "execute_result"
    },
    {
     "data": {
      "image/png": "[encoded data removed]",
      "text/plain": [
       "<Figure size 1080x720 with 2 Axes>"
      ]
     },
     "metadata": {
      "needs_background": "light"
     },
     "output_type": "display_data"
    }
   ],
   "source": [
    "plt.figure(figsize = (15,10))\n",
    "\n",
    "plt.subplot(2,1,1)\n",
    "plt.plot(losses)\n",
    "plt.title('Change in Loss')\n",
    "plt.subplot(2,1,2)\n",
    "plt.plot(accs)\n",
    "plt.title('Change in Accuracy')"
   ]
  },
  {
   "cell_type": "markdown",
   "metadata": {},
   "source": [
    "### Experiment 5: Optimize Encoder and Decoder with just one class"
   ]
  },
  {
   "cell_type": "code",
   "execution_count": 38,
   "metadata": {},
   "outputs": [
    {
     "name": "stdout",
     "output_type": "stream",
     "text": [
      "Iteration 1: Loss = 0.0034 / Acc: 1.0000\n",
      "Iteration 11: Loss = 0.0028 / Acc: 1.0000\n",
      "Iteration 21: Loss = 0.0024 / Acc: 1.0000\n",
      "Iteration 31: Loss = 0.0021 / Acc: 1.0000\n",
      "Iteration 41: Loss = 0.0019 / Acc: 1.0000\n",
      "Iteration 51: Loss = 0.0017 / Acc: 1.0000\n",
      "Iteration 61: Loss = 0.0016 / Acc: 1.0000\n",
      "Iteration 71: Loss = 0.0014 / Acc: 1.0000\n",
      "Iteration 81: Loss = 0.0013 / Acc: 1.0000\n",
      "Iteration 91: Loss = 0.0012 / Acc: 1.0000\n",
      "Iteration 101: Loss = 0.0012 / Acc: 1.0000\n",
      "Iteration 111: Loss = 0.0011 / Acc: 1.0000\n",
      "Iteration 121: Loss = 0.0010 / Acc: 1.0000\n",
      "Iteration 131: Loss = 0.0010 / Acc: 1.0000\n",
      "Iteration 141: Loss = 0.0009 / Acc: 1.0000\n",
      "Iteration 151: Loss = 0.0009 / Acc: 1.0000\n",
      "Iteration 161: Loss = 0.0008 / Acc: 1.0000\n",
      "Iteration 171: Loss = 0.0008 / Acc: 1.0000\n",
      "Iteration 181: Loss = 0.0008 / Acc: 1.0000\n",
      "Iteration 191: Loss = 0.0007 / Acc: 1.0000\n",
      "Iteration 200: Loss = 0.0007 / Acc: 1.0000\n"
     ]
    }
   ],
   "source": [
    "w1 = deepcopy(w1_init)\n",
    "w2 = deepcopy(w2_init)\n",
    "\n",
    "lr = 0.001\n",
    "iterations = 200\n",
    "lrw1 = 0.01\n",
    "\n",
    "losses = []\n",
    "accs = []\n",
    "\n",
    "y_norm = np.ones(len(df_oc_oh))\n",
    "\n",
    "hl1_this = np.zeros((len(df_oc_oh),len(cols[1:])))\n",
    "    \n",
    "for j,x_prime in enumerate(dt_y_hat):\n",
    "\n",
    "    label = cols[1:][j]\n",
    "    num_labels = [map_dicts_v2[label][f] for f in ys_test[j]]\n",
    "    hl1_this[:,j] = neuron_l1(x_prime,w1[j],num_labels)\n",
    "\n",
    "this_y_hat = sigmoid(np.dot(hl1_this,w2))        \n",
    "\n",
    "for i in range(iterations):\n",
    "    \n",
    "    hl1_this = np.zeros((len(df_oc_oh),len(cols[1:])))\n",
    "    \n",
    "    for j,x_prime in enumerate(dt_y_hat):\n",
    "        \n",
    "        label = cols[1:][j]\n",
    "        num_labels = [map_dicts_v2[label][f] for f in ys[j]]\n",
    "        hl1_this[:,j] = neuron_l1(x_prime,w1[j],num_labels)\n",
    "        \n",
    "        for k in np.unique(num_labels):\n",
    "            \n",
    "            indices = np.where(num_labels==k)\n",
    "            this_probs = x_prime[indices]\n",
    "            x_prime_this_this = x_prime[indices]\n",
    "            y_hat_this_this = this_y_hat[indices]\n",
    "            y_all_this_this = y_all[indices]\n",
    "            \n",
    "            grad_wj = np.dot((-y_all_this_this+y_hat_this_this)*w2[j],x_prime_this_this[:,k])\n",
    "            grad_wl = np.dot((-y_all_this_this+y_hat_this_this)*w2[j],(-1/len(np.unique(num_labels)-1))*np.delete(x_prime_this_this,k,axis = 1))\n",
    "    \n",
    "            w1[j][k] = w1[j][k] - lrw1*grad_wj\n",
    "            #print(k)\n",
    "            for this_indx in [f for f in np.unique(num_labels) if f != k]:\n",
    "                #print('\\t',this_indx)\n",
    "                \n",
    "                if this_indx < k:\n",
    "                    grad_indx = this_indx\n",
    "                elif this_indx > k:\n",
    "                    grad_indx = this_indx-1\n",
    "                else:\n",
    "                    print('this should not have happened')\n",
    "                w1[j][this_indx] = w1[j][this_indx] - lrw1*grad_wl[grad_indx]\n",
    "    \n",
    "    this_y_hat = sigmoid(np.dot(hl1_this,w2))\n",
    "    \n",
    "    #grad_w2 = np.dot((-y_norm+this_y_hat),hl1_this)\n",
    "    #w2 = w2 - lr*grad_w2\n",
    "    \n",
    "    this_loss = np.mean(get_cross_entropy_loss(y_norm,this_y_hat))\n",
    "    this_acc = np.mean(y_norm==(this_y_hat>=0.5))\n",
    "    \n",
    "    losses.append(this_loss)\n",
    "    accs.append(this_acc)\n",
    "    \n",
    "    if i % 10 == 0 or i == iterations-1:\n",
    "        print('Iteration {}: Loss = {:0.4f} / Acc: {:0.4f}'.format(i+1,this_loss,this_acc))"
   ]
  },
  {
   "cell_type": "code",
   "execution_count": 39,
   "metadata": {
    "scrolled": false
   },
   "outputs": [
    {
     "data": {
      "text/plain": [
       "Text(0.5, 1.0, 'Change in Accuracy')"
      ]
     },
     "execution_count": 39,
     "metadata": {},
     "output_type": "execute_result"
    },
    {
     "data": {
      "image/png": "[encoded data removed]",
      "text/plain": [
       "<Figure size 1080x720 with 2 Axes>"
      ]
     },
     "metadata": {
      "needs_background": "light"
     },
     "output_type": "display_data"
    }
   ],
   "source": [
    "plt.figure(figsize = (15,10))\n",
    "\n",
    "plt.subplot(2,1,1)\n",
    "plt.plot(losses)\n",
    "plt.title('Change in Loss')\n",
    "plt.subplot(2,1,2)\n",
    "plt.plot(accs)\n",
    "plt.title('Change in Accuracy')"
   ]
  },
  {
   "cell_type": "code",
   "execution_count": 40,
   "metadata": {},
   "outputs": [
    {
     "name": "stdout",
     "output_type": "stream",
     "text": [
      "\n"
     ]
    },
    {
     "data": {
      "text/plain": [
       "0.7657342657342657"
      ]
     },
     "execution_count": 40,
     "metadata": {},
     "output_type": "execute_result"
    }
   ],
   "source": [
    "hl1_this_all = np.zeros((len(df_oh_x),len(cols[1:])))\n",
    "print()\n",
    "for j,x_prime in enumerate(dt_y_hat_all):\n",
    "        \n",
    "        label = cols[1:][j]\n",
    "        num_labels = [map_dicts_v2[label][f] for f in ys_test[j]]\n",
    "        hl1_this_all[:,j] = neuron_l1(x_prime,w1[j],num_labels)\n",
    "        \n",
    "this_y_hat_all = sigmoid(np.dot(hl1_this_all,w2_init))\n",
    "np.mean((this_y_hat_all>= 0.5)==y_all)"
   ]
  },
  {
   "cell_type": "code",
   "execution_count": 41,
   "metadata": {},
   "outputs": [
    {
     "name": "stdout",
     "output_type": "stream",
     "text": [
      "\n"
     ]
    },
    {
     "data": {
      "text/plain": [
       "0.7657342657342657"
      ]
     },
     "execution_count": 41,
     "metadata": {},
     "output_type": "execute_result"
    }
   ],
   "source": [
    "hl1_this_all = np.zeros((len(df_oh_x),len(cols[1:])))\n",
    "print()\n",
    "for j,x_prime in enumerate(dt_y_hat_all):\n",
    "        \n",
    "        label = cols[1:][j]\n",
    "        num_labels = [map_dicts_v2[label][f] for f in ys_test[j]]\n",
    "        hl1_this_all[:,j] = neuron_l1(x_prime,w1_init[j],num_labels)\n",
    "        \n",
    "this_y_hat_all = sigmoid(np.dot(hl1_this_all,w2_init))\n",
    "np.mean((this_y_hat_all>= 0.5)==y_all)"
   ]
  },
  {
   "cell_type": "markdown",
   "metadata": {},
   "source": [
    "### Experiment 6: Optimize First Layer Weights"
   ]
  },
  {
   "cell_type": "code",
   "execution_count": null,
   "metadata": {},
   "outputs": [],
   "source": [
    "def neuron_l1(x_prime,weights,indxs):\n",
    "    \n",
    "    my_res = np.zeros((len(x_prime)))\n",
    "\n",
    "    for i,this_x_prime in enumerate(x_prime):\n",
    "        \n",
    "        if indxs[i] >= len(weights):\n",
    "            indxs[i] -= 1\n",
    "        this_x_wrong = np.delete(this_x_prime,indxs[i])\n",
    "        w_wrong = np.delete(weights,indxs[i])\n",
    "        my_res[i] = this_x_prime[indxs[i]]*weights[indxs[i]]-np.mean(this_x_wrong*w_wrong)\n",
    "        \n",
    "    return my_res"
   ]
  },
  {
   "cell_type": "code",
   "execution_count": 43,
   "metadata": {},
   "outputs": [],
   "source": [
    "from sklearn.metrics import roc_auc_score"
   ]
  },
  {
   "cell_type": "code",
   "execution_count": null,
   "metadata": {},
   "outputs": [],
   "source": [
    "roc_auc_score()"
   ]
  },
  {
   "cell_type": "code",
   "execution_count": 52,
   "metadata": {
    "scrolled": true
   },
   "outputs": [
    {
     "data": {
      "text/plain": [
       "(201, 3)"
      ]
     },
     "execution_count": 52,
     "metadata": {},
     "output_type": "execute_result"
    }
   ],
   "source": [
    "dt_y_hat[1].shape"
   ]
  },
  {
   "cell_type": "code",
   "execution_count": 54,
   "metadata": {},
   "outputs": [
    {
     "data": {
      "text/plain": [
       "(286,)"
      ]
     },
     "execution_count": 54,
     "metadata": {},
     "output_type": "execute_result"
    }
   ],
   "source": [
    "y_all.shape"
   ]
  },
  {
   "cell_type": "code",
   "execution_count": 55,
   "metadata": {},
   "outputs": [
    {
     "data": {
      "text/plain": [
       "array([1.00053157, 1.0011483 , 1.16129354, 1.22157501, 1.00784197,\n",
       "       0.80616855])"
      ]
     },
     "execution_count": 55,
     "metadata": {},
     "output_type": "execute_result"
    }
   ],
   "source": [
    "w1[0]"
   ]
  },
  {
   "cell_type": "code",
   "execution_count": 56,
   "metadata": {},
   "outputs": [
    {
     "data": {
      "text/plain": [
       "array([0. , 0.5, 0. , 0.5, 0. , 0. ])"
      ]
     },
     "execution_count": 56,
     "metadata": {},
     "output_type": "execute_result"
    }
   ],
   "source": [
    "dt_y_hat[0][0]"
   ]
  },
  {
   "cell_type": "code",
   "execution_count": 57,
   "metadata": {},
   "outputs": [
    {
     "data": {
      "text/plain": [
       "array([[0.        , 0.50057415, 0.        , 0.61078751, 0.        ,\n",
       "        0.        ],\n",
       "       [0.        , 0.        , 1.16129354, 0.        , 0.        ,\n",
       "        0.        ],\n",
       "       [0.        , 0.        , 1.16129354, 0.        , 0.        ,\n",
       "        0.        ],\n",
       "       ...,\n",
       "       [0.        , 0.        , 0.        , 1.22157501, 0.        ,\n",
       "        0.        ],\n",
       "       [0.        , 0.        , 0.        , 1.22157501, 0.        ,\n",
       "        0.        ],\n",
       "       [0.        , 0.        , 0.        , 0.        , 1.00784197,\n",
       "        0.        ]])"
      ]
     },
     "execution_count": 57,
     "metadata": {},
     "output_type": "execute_result"
    }
   ],
   "source": [
    "w1[0]*dt_y_hat[0]"
   ]
  },
  {
   "cell_type": "code",
   "execution_count": 76,
   "metadata": {},
   "outputs": [
    {
     "name": "stdout",
     "output_type": "stream",
     "text": [
      "0\n",
      "\t 0\n",
      "[1, 2, 3, 4, 5]\n",
      "5 6\n",
      "\t\t 1\n",
      "\t\t 2\n",
      "\t\t 3\n",
      "\t\t 4\n",
      "\t\t 5\n"
     ]
    },
    {
     "ename": "IndexError",
     "evalue": "index 5 is out of bounds for axis 0 with size 5",
     "output_type": "error",
     "traceback": [
      "\u001b[0;31m---------------------------------------------------------------------------\u001b[0m",
      "\u001b[0;31mIndexError\u001b[0m                                Traceback (most recent call last)",
      "\u001b[0;32m<ipython-input-76-2d24d9a07ceb>\u001b[0m in \u001b[0;36m<module>\u001b[0;34m\u001b[0m\n\u001b[1;32m     49\u001b[0m                 \u001b[0;32melse\u001b[0m\u001b[0;34m:\u001b[0m\u001b[0;34m\u001b[0m\u001b[0;34m\u001b[0m\u001b[0m\n\u001b[1;32m     50\u001b[0m                     \u001b[0mprint\u001b[0m\u001b[0;34m(\u001b[0m\u001b[0;34m'this should not have happened'\u001b[0m\u001b[0;34m)\u001b[0m\u001b[0;34m\u001b[0m\u001b[0;34m\u001b[0m\u001b[0m\n\u001b[0;32m---> 51\u001b[0;31m                 \u001b[0mw1\u001b[0m\u001b[0;34m[\u001b[0m\u001b[0mj\u001b[0m\u001b[0;34m]\u001b[0m\u001b[0;34m[\u001b[0m\u001b[0mthis_indx\u001b[0m\u001b[0;34m]\u001b[0m \u001b[0;34m=\u001b[0m \u001b[0mw1\u001b[0m\u001b[0;34m[\u001b[0m\u001b[0mj\u001b[0m\u001b[0;34m]\u001b[0m\u001b[0;34m[\u001b[0m\u001b[0mthis_indx\u001b[0m\u001b[0;34m]\u001b[0m \u001b[0;34m-\u001b[0m \u001b[0mlrw1\u001b[0m\u001b[0;34m*\u001b[0m\u001b[0mgrad_wl\u001b[0m\u001b[0;34m[\u001b[0m\u001b[0mgrad_indx\u001b[0m\u001b[0;34m]\u001b[0m\u001b[0;34m\u001b[0m\u001b[0;34m\u001b[0m\u001b[0m\n\u001b[0m\u001b[1;32m     52\u001b[0m \u001b[0;34m\u001b[0m\u001b[0m\n\u001b[1;32m     53\u001b[0m     \u001b[0mthis_loss\u001b[0m \u001b[0;34m=\u001b[0m \u001b[0;34m[\u001b[0m\u001b[0;34m]\u001b[0m\u001b[0;34m\u001b[0m\u001b[0;34m\u001b[0m\u001b[0m\n",
      "\u001b[0;31mIndexError\u001b[0m: index 5 is out of bounds for axis 0 with size 5"
     ]
    }
   ],
   "source": [
    "w1 = deepcopy(w1_init)\n",
    "w2 = deepcopy(w2_init)\n",
    "\n",
    "lr = 0.001\n",
    "iterations = 200\n",
    "lrw1 = 0.01\n",
    "\n",
    "losses = []\n",
    "accs = []\n",
    "\n",
    "y_norm = np.ones(len(df_oc_oh))\n",
    "\n",
    "for i in range(iterations):\n",
    "    \n",
    "    hl1_this = np.zeros((len(df_oc_oh),len(cols[1:])))\n",
    "    \n",
    "    for j,x_prime in enumerate(dt_y_hat):\n",
    "        print(j)\n",
    "        x_prime_prime = np.argmax(x_prime*w1[j])\n",
    "        \n",
    "        label = cols[1:][j]\n",
    "        num_labels = [map_dicts_v2[label][f] for f in ys[j]]\n",
    "        #hl1_this[:,j] = neuron_l1(x_prime,w1[j],num_labels)\n",
    "        \n",
    "        for k in np.unique(num_labels):\n",
    "            print('\\t',k)\n",
    "            indices = np.where(num_labels==k)\n",
    "            this_probs = x_prime[indices]\n",
    "            x_prime_this_this = x_prime[indices]\n",
    "            \n",
    "            grad_wj = np.mean(x_prime_this_this[:,k])\n",
    "            grad_wl = np.mean(-(1/len(np.unique(num_labels)))*np.delete(x_prime_this_this,k,axis = 1),axis = 0)\n",
    "            \n",
    "            #grad_wj = np.dot((-y_all_this_this+y_hat_this_this)*w2[j],x_prime_this_this[:,k])\n",
    "            #grad_wl = np.dot((-y_all_this_this+y_hat_this_this)*w2[j],(-1/len(np.unique(num_labels)-1))*np.delete(x_prime_this_this,k,axis = 1))\n",
    "    \n",
    "            w1[j][k] = w1[j][k] - lrw1*grad_wj\n",
    "            \n",
    "            print([f for f in np.unique(num_labels) if f != k])\n",
    "            print(this_indx,len(np.unique(num_labels)))\n",
    "            #print(num_labels)\n",
    "            for this_indx in [f for f in np.unique(num_labels) if f != k]:\n",
    "                print('\\t\\t',this_indx)\n",
    "                if this_indx < len(np.unique(num_labels)):\n",
    "                    grad_indx = this_indx\n",
    "                elif this_indx > len(np.unique(num_labels)):\n",
    "                    print('this sucks')\n",
    "                    grad_indx = this_indx-1\n",
    "                else:\n",
    "                    print('this should not have happened')\n",
    "                w1[j][this_indx] = w1[j][this_indx] - lrw1*grad_wl[grad_indx]\n",
    "    \n",
    "    this_loss = []\n",
    "    \n",
    "    for j,x_prime in enumerate(dt_y_hat):\n",
    "        \n",
    "        label = cols[1:][j]\n",
    "        num_labels = [map_dicts_v2[label][f] for f in ys[j]]\n",
    "        hl1_this[:,j] = neuron_l1(x_prime,w1[j],num_labels)\n",
    "    \n",
    "        this_loss.append(np.mean(hl1_this[:,j]))\n",
    "    \n",
    "    #print(np.mean(this_loss))\n",
    "    \n",
    "    #this_y_hat = sigmoid(np.dot(hl1_this,w2))\n",
    "    \n",
    "    #grad_w2 = np.dot((-y_norm+this_y_hat),hl1_this)\n",
    "    #w2 = w2 - lr*grad_w2\n",
    "    \n",
    "    #this_loss = np.mean(get_cross_entropy_loss(y_norm,this_y_hat))\n",
    "    #this_acc = np.mean(y_norm==(this_y_hat>=0.5))\n",
    "    #this_auc = roc_auc_score(y_norm,this_y_hat)\n",
    "    #losses.append(this_loss)\n",
    "    #accs.append(this_acc)\n",
    "    \n",
    "    if i % 10 == 0 or i == iterations-1:\n",
    "        print('Iteration {}: Loss = {:0.4f}'.format(i+1,np.mean(this_loss)))"
   ]
  },
  {
   "cell_type": "code",
   "execution_count": null,
   "metadata": {},
   "outputs": [],
   "source": []
  }
 ],
 "metadata": {
  "kernelspec": {
   "display_name": "Python 3",
   "language": "python",
   "name": "python3"
  },
  "language_info": {
   "codemirror_mode": {
    "name": "ipython",
    "version": 3
   },
   "file_extension": ".py",
   "mimetype": "text/x-python",
   "name": "python",
   "nbconvert_exporter": "python",
   "pygments_lexer": "ipython3",
   "version": "3.6.7"
  }
 },
 "nbformat": 4,
 "nbformat_minor": 2
}
