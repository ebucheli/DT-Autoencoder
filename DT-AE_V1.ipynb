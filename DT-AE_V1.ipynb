{
 "cells": [
  {
   "cell_type": "code",
   "execution_count": 1,
   "metadata": {},
   "outputs": [],
   "source": [
    "import numpy as np\n",
    "import matplotlib.pyplot as plt\n",
    "from sklearn import tree\n",
    "import pandas as pd"
   ]
  },
  {
   "cell_type": "code",
   "execution_count": 2,
   "metadata": {},
   "outputs": [],
   "source": [
    "import sklearn"
   ]
  },
  {
   "cell_type": "code",
   "execution_count": 3,
   "metadata": {},
   "outputs": [],
   "source": [
    "cols = ['x1','x2','x3','x4']\n",
    "\n",
    "X = [['a','p','n','u'],\n",
    "     ['a','p','n','u'],\n",
    "     ['a','p','n','u'],\n",
    "     ['a','p','n','u'],\n",
    "     ['a','p','n','w'],\n",
    "     ['b','p','n','w'],\n",
    "     ['b','p','m','w'],\n",
    "     ['b','p','m','w'],\n",
    "     ['b','p','m','w'],\n",
    "     ['b','p','m','w'],\n",
    "     ['c','q','m','w'],\n",
    "     ['c','q','m','w'],\n",
    "     ['c','q','m','u'],\n",
    "     ['c','q','m','u'],\n",
    "     ['c','q','m','u'],]"
   ]
  },
  {
   "cell_type": "code",
   "execution_count": 4,
   "metadata": {},
   "outputs": [],
   "source": [
    "df = pd.DataFrame(data = X,columns = cols)"
   ]
  },
  {
   "cell_type": "markdown",
   "metadata": {},
   "source": [
    "### Train Trees"
   ]
  },
  {
   "cell_type": "code",
   "execution_count": 5,
   "metadata": {},
   "outputs": [],
   "source": [
    "clfs = []\n",
    "xs = []\n",
    "ys = []\n",
    "for col in cols:\n",
    "    \n",
    "    this_y = df.loc[:,col]\n",
    "    this_X = df.drop(col,axis = 1)\n",
    "    this_X = pd.get_dummies(this_X)\n",
    "    \n",
    "    xs.append(this_X)\n",
    "    ys.append(this_y)\n",
    "    \n",
    "    this_clf = tree.DecisionTreeClassifier()\n",
    "    this_clf.fit(this_X,this_y)\n",
    "    clfs.append(this_clf)"
   ]
  },
  {
   "cell_type": "code",
   "execution_count": 6,
   "metadata": {
    "scrolled": false
   },
   "outputs": [
    {
     "data": {
      "text/plain": [
       "[Text(167.4, 163.07999999999998, 'x1_c <= 0.5\\ngini = 0.444\\nsamples = 15\\nvalue = [10, 5]'),\n",
       " Text(83.7, 54.360000000000014, 'gini = 0.0\\nsamples = 10\\nvalue = [10, 0]'),\n",
       " Text(251.10000000000002, 54.360000000000014, 'gini = 0.0\\nsamples = 5\\nvalue = [0, 5]')]"
      ]
     },
     "execution_count": 6,
     "metadata": {},
     "output_type": "execute_result"
    },
    {
     "data": {
      "image/png": "[encoded data removed]",
      "text/plain": [
       "<Figure size 432x288 with 1 Axes>"
      ]
     },
     "metadata": {
      "needs_background": "light"
     },
     "output_type": "display_data"
    }
   ],
   "source": [
    "tree.plot_tree(clfs[1],feature_names=['x1_a','x1_b','x1_c','x3_m','x3_n','x4_u','x4_w'])"
   ]
  },
  {
   "cell_type": "markdown",
   "metadata": {},
   "source": [
    "### Get initial weights"
   ]
  },
  {
   "cell_type": "code",
   "execution_count": 11,
   "metadata": {},
   "outputs": [],
   "source": [
    "from sklearn.metrics import recall_score, roc_auc_score"
   ]
  },
  {
   "cell_type": "markdown",
   "metadata": {},
   "source": [
    "Initial weights for layer 1"
   ]
  },
  {
   "cell_type": "code",
   "execution_count": 21,
   "metadata": {},
   "outputs": [],
   "source": [
    "recall_pc = []\n",
    "for i,clf in enumerate(clfs):\n",
    "    recall_pc.append(recall_score(ys[i],clf.predict(xs[i]),average=None))\n",
    "\n",
    "#in__weights_l1 = [f for g in recall_pc for f in g]"
   ]
  },
  {
   "cell_type": "code",
   "execution_count": 32,
   "metadata": {},
   "outputs": [
    {
     "data": {
      "text/plain": [
       "[array([1. , 0.8, 1. ]),\n",
       " array([1., 1.]),\n",
       " array([1.        , 0.83333333]),\n",
       " array([1.   , 0.625])]"
      ]
     },
     "execution_count": 32,
     "metadata": {},
     "output_type": "execute_result"
    }
   ],
   "source": [
    "recall_pc"
   ]
  },
  {
   "cell_type": "markdown",
   "metadata": {},
   "source": [
    "### Evaluate on Dataset"
   ]
  },
  {
   "cell_type": "markdown",
   "metadata": {},
   "source": [
    "Generate *x'*"
   ]
  },
  {
   "cell_type": "code",
   "execution_count": 36,
   "metadata": {},
   "outputs": [],
   "source": [
    "dt_y_hat = []\n",
    "\n",
    "for i, clf in enumerate(clfs):\n",
    "    dt_y_hat.append(clf.predict_proba(xs[i]))"
   ]
  },
  {
   "cell_type": "code",
   "execution_count": 46,
   "metadata": {},
   "outputs": [],
   "source": [
    "hl1 = []\n",
    "for i, x_prime in enumerate(dt_y_hat):\n",
    "    \n",
    "    hl1.append(np.argmax(x_prime*recall_pc[i],axis = 1))\n",
    "hl1 = np.array(hl1).T"
   ]
  },
  {
   "cell_type": "code",
   "execution_count": 48,
   "metadata": {},
   "outputs": [
    {
     "data": {
      "text/plain": [
       "array([[0, 0, 1, 0],\n",
       "       [0, 0, 1, 0],\n",
       "       [0, 0, 1, 0],\n",
       "       [0, 0, 1, 0],\n",
       "       [0, 0, 1, 0],\n",
       "       [0, 0, 0, 1],\n",
       "       [1, 0, 0, 1],\n",
       "       [1, 0, 0, 1],\n",
       "       [1, 0, 0, 1],\n",
       "       [1, 0, 0, 1],\n",
       "       [2, 1, 0, 0],\n",
       "       [2, 1, 0, 0],\n",
       "       [2, 1, 0, 0],\n",
       "       [2, 1, 0, 0],\n",
       "       [2, 1, 0, 0]])"
      ]
     },
     "execution_count": 48,
     "metadata": {},
     "output_type": "execute_result"
    }
   ],
   "source": [
    "hl1"
   ]
  },
  {
   "cell_type": "code",
   "execution_count": 50,
   "metadata": {},
   "outputs": [
    {
     "data": {
      "text/plain": [
       "[['a', 'p', 'n', 'u'],\n",
       " ['a', 'p', 'n', 'u'],\n",
       " ['a', 'p', 'n', 'u'],\n",
       " ['a', 'p', 'n', 'u'],\n",
       " ['a', 'p', 'n', 'w'],\n",
       " ['b', 'p', 'n', 'w'],\n",
       " ['b', 'p', 'm', 'w'],\n",
       " ['b', 'p', 'm', 'w'],\n",
       " ['b', 'p', 'm', 'w'],\n",
       " ['b', 'p', 'm', 'w'],\n",
       " ['c', 'q', 'm', 'w'],\n",
       " ['c', 'q', 'm', 'w'],\n",
       " ['c', 'q', 'm', 'u'],\n",
       " ['c', 'q', 'm', 'u'],\n",
       " ['c', 'q', 'm', 'u']]"
      ]
     },
     "execution_count": 50,
     "metadata": {},
     "output_type": "execute_result"
    }
   ],
   "source": [
    "X"
   ]
  },
  {
   "cell_type": "code",
   "execution_count": null,
   "metadata": {},
   "outputs": [],
   "source": []
  },
  {
   "cell_type": "code",
   "execution_count": null,
   "metadata": {},
   "outputs": [],
   "source": []
  },
  {
   "cell_type": "code",
   "execution_count": null,
   "metadata": {},
   "outputs": [],
   "source": []
  },
  {
   "cell_type": "code",
   "execution_count": null,
   "metadata": {},
   "outputs": [],
   "source": []
  },
  {
   "cell_type": "code",
   "execution_count": null,
   "metadata": {},
   "outputs": [],
   "source": []
  },
  {
   "cell_type": "code",
   "execution_count": null,
   "metadata": {},
   "outputs": [],
   "source": []
  },
  {
   "cell_type": "code",
   "execution_count": 34,
   "metadata": {},
   "outputs": [],
   "source": [
    "x_prime = clfs[0].predict_proba(xs[0])\n",
    "for i in range(1,4):\n",
    "    \n",
    "    x_prime = np.concatenate((x_prime,clfs[i].predict_proba(xs[i])),axis = 1)"
   ]
  },
  {
   "cell_type": "code",
   "execution_count": 35,
   "metadata": {},
   "outputs": [
    {
     "data": {
      "text/plain": [
       "[]"
      ]
     },
     "execution_count": 35,
     "metadata": {},
     "output_type": "execute_result"
    }
   ],
   "source": [
    "dt_y_hat"
   ]
  },
  {
   "cell_type": "code",
   "execution_count": 30,
   "metadata": {},
   "outputs": [
    {
     "data": {
      "text/plain": [
       "array([[1. , 0. , 0. , 1. , 0. , 0. , 1. , 0.8, 0.2],\n",
       "       [1. , 0. , 0. , 1. , 0. , 0. , 1. , 0.8, 0.2],\n",
       "       [1. , 0. , 0. , 1. , 0. , 0. , 1. , 0.8, 0.2],\n",
       "       [1. , 0. , 0. , 1. , 0. , 0. , 1. , 0.8, 0.2],\n",
       "       [0.5, 0.5, 0. , 1. , 0. , 0. , 1. , 0.8, 0.2],\n",
       "       [0.5, 0.5, 0. , 1. , 0. , 0.8, 0.2, 0. , 1. ],\n",
       "       [0. , 1. , 0. , 1. , 0. , 0.8, 0.2, 0. , 1. ],\n",
       "       [0. , 1. , 0. , 1. , 0. , 0.8, 0.2, 0. , 1. ],\n",
       "       [0. , 1. , 0. , 1. , 0. , 0.8, 0.2, 0. , 1. ],\n",
       "       [0. , 1. , 0. , 1. , 0. , 0.8, 0.2, 0. , 1. ],\n",
       "       [0. , 0. , 1. , 0. , 1. , 1. , 0. , 0.6, 0.4],\n",
       "       [0. , 0. , 1. , 0. , 1. , 1. , 0. , 0.6, 0.4],\n",
       "       [0. , 0. , 1. , 0. , 1. , 1. , 0. , 0.6, 0.4],\n",
       "       [0. , 0. , 1. , 0. , 1. , 1. , 0. , 0.6, 0.4],\n",
       "       [0. , 0. , 1. , 0. , 1. , 1. , 0. , 0.6, 0.4]])"
      ]
     },
     "execution_count": 30,
     "metadata": {},
     "output_type": "execute_result"
    }
   ],
   "source": [
    "x_prime"
   ]
  },
  {
   "cell_type": "markdown",
   "metadata": {},
   "source": [
    "Multiply x' by weights and get argmax"
   ]
  },
  {
   "cell_type": "code",
   "execution_count": 28,
   "metadata": {},
   "outputs": [
    {
     "data": {
      "text/plain": [
       "array([0, 0, 0, 0, 3, 3, 3, 3, 3, 3, 2, 2, 2, 2, 2])"
      ]
     },
     "execution_count": 28,
     "metadata": {},
     "output_type": "execute_result"
    }
   ],
   "source": [
    "np.argmax(x_prime*in__weights_l1,axis = 1)"
   ]
  },
  {
   "cell_type": "markdown",
   "metadata": {},
   "source": [
    "# "
   ]
  },
  {
   "cell_type": "code",
   "execution_count": null,
   "metadata": {},
   "outputs": [],
   "source": []
  }
 ],
 "metadata": {
  "kernelspec": {
   "display_name": "Python 3",
   "language": "python",
   "name": "python3"
  },
  "language_info": {
   "codemirror_mode": {
    "name": "ipython",
    "version": 3
   },
   "file_extension": ".py",
   "mimetype": "text/x-python",
   "name": "python",
   "nbconvert_exporter": "python",
   "pygments_lexer": "ipython3",
   "version": "3.6.7"
  }
 },
 "nbformat": 4,
 "nbformat_minor": 2
}
